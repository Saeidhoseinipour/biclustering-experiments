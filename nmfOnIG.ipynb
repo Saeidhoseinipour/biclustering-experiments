{
 "cells": [
  {
   "cell_type": "code",
   "execution_count": 1,
   "metadata": {
    "collapsed": false
   },
   "outputs": [],
   "source": [
    "import pandas as pd\n",
    "import numpy as np\n",
    "import seaborn as sns\n",
    "import cPickle as pickle\n",
    "import codecs\n",
    "\n",
    "from matplotlib import pyplot as plt\n",
    "from sklearn.pipeline import Pipeline\n",
    "from sklearn.feature_extraction.text import CountVectorizer\n",
    "from sklearn.feature_extraction.text import TfidfTransformer\n",
    "from sklearn import metrics\n",
    "from sklearn.cluster import KMeans\n",
    "from sklearn.cluster.bicluster import SpectralCoclustering\n",
    "from biclustering.biclustering import DeltaBiclustering\n",
    "from sklearn.metrics.cluster import normalized_mutual_info_score\n",
    "from sklearn.metrics.cluster import adjusted_rand_score"
   ]
  },
  {
   "cell_type": "code",
   "execution_count": 2,
   "metadata": {
    "collapsed": false
   },
   "outputs": [],
   "source": [
    "%matplotlib inline\n",
    "sns.set_palette(\"deep\", desat=.6)\n",
    "sns.set_context(rc={\"figure.figsize\": (8, 4)})"
   ]
  },
  {
   "cell_type": "code",
   "execution_count": 3,
   "metadata": {
    "collapsed": true
   },
   "outputs": [],
   "source": [
    "arena_news_stem_df = pd.read_pickle('arena_news_stem_df.pkl')\n",
    "sport_news_stem_df = pd.read_pickle('sport_news_stem_df.pkl')\n",
    "jovem_news_stem_df = pd.read_pickle('jovem_news_stem_df.pkl')\n",
    "arena_news_df = pd.read_pickle('arena_news_df.pkl')\n",
    "sport_news_df = pd.read_pickle('sport_news_df.pkl')\n",
    "jovem_news_df = pd.read_pickle('jovem_news_df.pkl')"
   ]
  },
  {
   "cell_type": "code",
   "execution_count": 4,
   "metadata": {
    "collapsed": true
   },
   "outputs": [],
   "source": [
    "labels = np.array(len(arena_news_df)*[1] + len(sport_news_df)*[0])"
   ]
  },
  {
   "cell_type": "code",
   "execution_count": 5,
   "metadata": {
    "collapsed": true
   },
   "outputs": [],
   "source": [
    "def sparseness(C):\n",
    "    return 1 - len(C.nonzero()[0]) / float(C.shape[0] * C.shape[1])"
   ]
  },
  {
   "cell_type": "code",
   "execution_count": 6,
   "metadata": {
    "collapsed": false
   },
   "outputs": [
    {
     "name": "stdout",
     "output_type": "stream",
     "text": [
      "toy_arena_sport_news_binary sparseness: 0.97191\n"
     ]
    }
   ],
   "source": [
    "count_vect_bin = CountVectorizer(encoding='UTF-8',lowercase=False,min_df=2,binary=True)\n",
    "X_bin = count_vect_bin.fit_transform(arena_news_df['all'].tolist() + sport_news_df['all'].tolist())\n",
    "# print ', '.join(count_vect.get_feature_names())\n",
    "# pd.DataFrame(X_bin.A, columns=count_vect_bin.get_feature_names())\n",
    "print \"toy_arena_sport_news_binary sparseness: %.5f\" % sparseness(X_bin)\n",
    "with open('toy_arena_sport_news_binary.pickle', 'wb') as handle:\n",
    "    pickle.dump(X_bin, handle)"
   ]
  },
  {
   "cell_type": "code",
   "execution_count": 7,
   "metadata": {
    "collapsed": false
   },
   "outputs": [
    {
     "name": "stdout",
     "output_type": "stream",
     "text": [
      "toy_arena_sport_news sparseness: 0.97191\n"
     ]
    }
   ],
   "source": [
    "count_vect = CountVectorizer(encoding='UTF-8',lowercase=False,min_df=2)\n",
    "X = count_vect.fit_transform(arena_news_df['all'].tolist() + sport_news_df['all'].tolist())\n",
    "# print ', '.join(count_vect.get_feature_names())\n",
    "# pd.DataFrame(X.A, columns=count_vect.get_feature_names())\n",
    "print \"toy_arena_sport_news sparseness: %.5f\" % sparseness(X)\n",
    "with open('toy_arena_sport_news.pickle', 'wb') as handle:\n",
    "    pickle.dump(X, handle)"
   ]
  },
  {
   "cell_type": "code",
   "execution_count": 8,
   "metadata": {
    "collapsed": false
   },
   "outputs": [
    {
     "name": "stdout",
     "output_type": "stream",
     "text": [
      "toy_arena_sport_news_stem_binary sparseness: 0.95972\n"
     ]
    }
   ],
   "source": [
    "count_vect_stem_bin = CountVectorizer(encoding='UTF-8',lowercase=False,min_df=2,binary=True)\n",
    "X_stem_bin = count_vect_stem_bin.fit_transform(arena_news_stem_df['all'].tolist() + sport_news_stem_df['all'].tolist())\n",
    "# print ', '.join(count_vect.get_feature_names())\n",
    "# pd.DataFrame(X_stem_bin.A, columns=count_vect_stem_bin.get_feature_names())\n",
    "print \"toy_arena_sport_news_stem_binary sparseness: %.5f\" % sparseness(X_stem_bin)\n",
    "with open('toy_arena_sport_news_stem_binary.pickle', 'wb') as handle:\n",
    "    pickle.dump(X_stem_bin, handle)"
   ]
  },
  {
   "cell_type": "code",
   "execution_count": 9,
   "metadata": {
    "collapsed": false
   },
   "outputs": [
    {
     "name": "stdout",
     "output_type": "stream",
     "text": [
      "toy_arena_sport_news_stem sparseness: 0.95972\n"
     ]
    }
   ],
   "source": [
    "count_vect_stem = CountVectorizer(encoding='UTF-8',lowercase=False,min_df=2)\n",
    "X_stem = count_vect_stem.fit_transform(arena_news_stem_df['all'].tolist() + sport_news_stem_df['all'].tolist())\n",
    "# print ', '.join(count_vect.get_feature_names())\n",
    "# pd.DataFrame(X_stem.A, columns=count_vect_stem.get_feature_names())\n",
    "print \"toy_arena_sport_news_stem sparseness: %.5f\" % sparseness(X_stem)\n",
    "with open('toy_arena_sport_news_stem.pickle', 'wb') as handle:\n",
    "    pickle.dump(X_stem, handle)"
   ]
  },
  {
   "cell_type": "code",
   "execution_count": 12,
   "metadata": {
    "collapsed": false
   },
   "outputs": [
    {
     "name": "stdout",
     "output_type": "stream",
     "text": [
      "toy_arena_sport_news_tf sparseness: 0.97191\n",
      "toy_arena_sport_news_tf_stem sparseness: 0.95972\n",
      "toy_arena_sport_news_tf_norm sparseness: 0.97191\n",
      "toy_arena_sport_news_tf_norm_stem sparseness: 0.95972\n",
      "toy_arena_sport_news_tf_idf sparseness: 0.97191\n",
      "toy_arena_sport_news_tf_idf_stem sparseness: 0.95972\n",
      "toy_arena_sport_news_tf_idf_norm sparseness: 0.97191\n",
      "toy_arena_sport_news_tf_idf_norm_stem sparseness: 0.95972\n"
     ]
    }
   ],
   "source": [
    "# simple\n",
    "X_train = TfidfTransformer(norm=None, use_idf=False).fit_transform(X)\n",
    "print \"toy_arena_sport_news_tf sparseness: %.5f\" % sparseness(X_train)\n",
    "with open('toy_arena_sport_news_tf.pickle', 'wb') as handle:\n",
    "    pickle.dump(X_train, handle)\n",
    "\n",
    "X_train_stem = TfidfTransformer(norm=None, use_idf=False).fit_transform(X_stem)\n",
    "print \"toy_arena_sport_news_tf_stem sparseness: %.5f\" % sparseness(X_train_stem)\n",
    "with open('toy_arena_sport_news_tf_stem.pickle', 'wb') as handle:\n",
    "    pickle.dump(X_train_stem, handle)\n",
    "\n",
    "# simple norm\n",
    "X_train_norm = TfidfTransformer(norm=u'l2', use_idf=False).fit_transform(X)\n",
    "print \"toy_arena_sport_news_tf_norm sparseness: %.5f\" % sparseness(X_train_norm)\n",
    "with open('toy_arena_sport_news_tf_norm.pickle', 'wb') as handle:\n",
    "    pickle.dump(X_train_norm, handle)\n",
    "np.savetxt('toy_arena_sport_news_tf_norm.csv', X_train_norm.toarray(), delimiter=\",\") \n",
    "\n",
    "X_train_norm_stem = TfidfTransformer(norm=u'l2', use_idf=False).fit_transform(X_stem)\n",
    "print \"toy_arena_sport_news_tf_norm_stem sparseness: %.5f\" % sparseness(X_train_norm_stem)\n",
    "with open('toy_arena_sport_news_tf_norm_stem.pickle', 'wb') as handle:\n",
    "    pickle.dump(X_train_norm_stem, handle)\n",
    "\n",
    "# tfidf\n",
    "X_train_tfidf = TfidfTransformer(norm=None, use_idf=True).fit_transform(X)\n",
    "print \"toy_arena_sport_news_tf_idf sparseness: %.5f\" % sparseness(X_train_tfidf)\n",
    "with open('toy_arena_sport_news_tf_idf.pickle', 'wb') as handle:\n",
    "    pickle.dump(X_train_tfidf, handle)\n",
    "\n",
    "X_train_tfidf_stem = TfidfTransformer(norm=None, use_idf=True).fit_transform(X_stem)\n",
    "print \"toy_arena_sport_news_tf_idf_stem sparseness: %.5f\" % sparseness(X_train_tfidf_stem)\n",
    "with open('toy_arena_sport_news_tf_idf_stem.pickle', 'wb') as handle:\n",
    "    pickle.dump(X_train_tfidf_stem, handle)\n",
    "\n",
    "# norm tfidf\n",
    "X_train_norm_tfidf = TfidfTransformer(norm=u'l2', use_idf=True).fit_transform(X)\n",
    "print \"toy_arena_sport_news_tf_idf_norm sparseness: %.5f\" % sparseness(X_train_norm_tfidf)\n",
    "with open('toy_arena_sport_news_tf_idf_norm.pickle', 'wb') as handle:\n",
    "    pickle.dump(X_train_norm_tfidf, handle)\n",
    "\n",
    "X_train_norm_tfidf_stem = TfidfTransformer(norm=u'l2', use_idf=True).fit_transform(X_stem)\n",
    "print \"toy_arena_sport_news_tf_idf_norm_stem sparseness: %.5f\" % sparseness(X_train_norm_tfidf_stem)\n",
    "with open('toy_arena_sport_news_tf_idf_norm_stem.pickle', 'wb') as handle:\n",
    "    pickle.dump(X_train_norm_tfidf_stem, handle)"
   ]
  },
  {
   "cell_type": "code",
   "execution_count": 31,
   "metadata": {
    "collapsed": true
   },
   "outputs": [],
   "source": [
    "def onmtf(X, U, S, V):\n",
    "    U = U * (X.dot(V).dot(S.T)) / (U.dot(S).dot(V.T).dot(X.T).dot(U))\n",
    "    S = S * (U.T.dot(X).dot(V)) / (U.T.dot(U).dot(S).dot(V.T).dot(V))\n",
    "    V = V * (X.T.dot(U).dot(S)) / (V.dot(S.T).dot(U.T).dot(X).dot(V))\n",
    "    return U, S, V\n",
    "\n",
    "def onm3f(X, U, S, V):\n",
    "     U = U * (X.dot(V).dot(S.T)) / np.sqrt(U.dot(U.T).dot(X).dot(V).dot(S.T))\n",
    "     V = V * (X.T.dot(U).dot(S)) / np.sqrt(V.dot(V.T).dot(X.T).dot(U).dot(S))\n",
    "     S = S * (U.T.dot(X).dot(V)) / np.sqrt(U.T.dot(U).dot(S).dot(V.T).dot(V))\n",
    "     return U, S, V\n",
    "\n",
    "def nbvd(X, U, S, V):\n",
    "     U = U * (X.dot(V).dot(S.T)) / U.dot(U.T).dot(X).dot(V).dot(S.T)\n",
    "     V = V * (X.T.dot(U).dot(S)) / V.dot(V.T).dot(X.T).dot(U).dot(S)\n",
    "     S = S * (U.T.dot(X).dot(V)) / U.T.dot(U).dot(S).dot(V.T).dot(V)\n",
    "     return U, S, V\n",
    "    \n",
    "def matrix_factorization_clustering(X, k, l, factorization_func=onmtf, norm=False, num_iters=100):\n",
    "    m, n = X.shape\n",
    "    U = np.random.rand(m,k)\n",
    "    S = np.random.rand(k,l)\n",
    "    V = np.random.rand(n,l)\n",
    "\n",
    "    if norm:\n",
    "        X = normalize(X)\n",
    "\n",
    "    for i in xrange(num_iters):\n",
    "        U, S, V = factorization_func(X, U, S, V)\n",
    "#         error = np.sum((X - U.dot(S).dot(V.T))**2)\n",
    "#         print 'iteration %s' % i\n",
    "#         print 'error %s' % error\n",
    "#         print ''\n",
    "\n",
    "    Du = np.diag(np.ones(m).dot(U))\n",
    "    Dv = np.diag(np.ones(n).dot(V))\n",
    "\n",
    "    U = U.dot( np.diag(S.dot(Dv).dot(np.ones(l))) )\n",
    "    V = V.dot( np.diag(np.ones(k).dot(Du).dot(S)) )\n",
    "\n",
    "    rows_ind = np.argmax(U, axis=1)\n",
    "    cols_ind = np.argmax(V, axis=1)\n",
    "\n",
    "    return U, S, V, rows_ind, cols_ind\n",
    "\n",
    "def plot_factorization_result(U, S, V):\n",
    "    fig = plt.figure()\n",
    "    \n",
    "    ax = fig.add_subplot(2, 2, 1)\n",
    "    ax.matshow(U.dot(S).dot(V.T), cmap=plt.cm.Blues)\n",
    "    ax.set_title('reconstruction')\n",
    "    ax.grid()\n",
    "    \n",
    "    ax2 = fig.add_subplot(2, 2, 2)\n",
    "    ax2.matshow(U, cmap=plt.cm.Blues)\n",
    "    ax2.set_title('U*S')\n",
    "    ax2.grid()\n",
    "\n",
    "    ax3 = fig.add_subplot(2, 2, 3)\n",
    "    ax3.matshow(S, cmap=plt.cm.Blues)\n",
    "    ax3.set_title('S')\n",
    "    ax3.grid()\n",
    "\n",
    "    ax4 = fig.add_subplot(2, 2, 4)\n",
    "    ax4.matshow(V.T, cmap=plt.cm.Blues)\n",
    "    ax4.set_title('S*V\\'')\n",
    "    ax4.grid()\n",
    "    \n",
    "    plt.show()\n",
    "\n",
    "\n",
    "def scores(labels_true, labels_pred, row=True):\n",
    "    txt = '## Scores\\n\\n'\n",
    "    if row:\n",
    "        txt += '#### Rows scores\\n'\n",
    "    else:\n",
    "        txt += '#### Cols scores\\n'\n",
    "    txt += '- Rand score: %s\\n' % adjusted_rand_score(labels_true, labels_pred)\n",
    "    txt += '- Normalized mutual information score: %s\\n\\n' % normalized_mutual_info_score(labels_true, labels_pred)\n",
    "    return txt"
   ]
  },
  {
   "cell_type": "code",
   "execution_count": 32,
   "metadata": {
    "collapsed": false,
    "scrolled": true
   },
   "outputs": [],
   "source": [
    "U, S, V, rows_ind, cols_ind = matrix_factorization_clustering(X_train_norm_tfidf.toarray(), 2, 4, onmtf, num_iters=100)"
   ]
  },
  {
   "cell_type": "code",
   "execution_count": 33,
   "metadata": {
    "collapsed": false
   },
   "outputs": [
    {
     "name": "stdout",
     "output_type": "stream",
     "text": [
      "0.993749984789\n"
     ]
    }
   ],
   "source": [
    "print adjusted_rand_score(labels, rows_ind)"
   ]
  },
  {
   "cell_type": "code",
   "execution_count": 34,
   "metadata": {
    "collapsed": false
   },
   "outputs": [
    {
     "name": "stdout",
     "output_type": "stream",
     "text": [
      "(640,)\n"
     ]
    }
   ],
   "source": [
    "U_norm_0 = U[:,0] / np.sum(U, axis=1)\n",
    "U_norm_1 = U[:,1] / np.sum(U, axis=1)\n",
    "print U_norm_0.shape"
   ]
  },
  {
   "cell_type": "code",
   "execution_count": 35,
   "metadata": {
    "collapsed": false
   },
   "outputs": [
    {
     "data": {
      "image/png": "[encoded data removed]",
      "text/plain": [
       "<matplotlib.figure.Figure at 0x1094bb410>"
      ]
     },
     "metadata": {},
     "output_type": "display_data"
    }
   ],
   "source": [
    "plt.hist(U_norm_0[(U_norm_0 > 0.0) & (U_norm_0 < 1.0)], bins=30)\n",
    "plt.show()"
   ]
  },
  {
   "cell_type": "code",
   "execution_count": 37,
   "metadata": {
    "collapsed": false
   },
   "outputs": [
    {
     "data": {
      "image/png": "[encoded data removed]",
      "text/plain": [
       "<matplotlib.figure.Figure at 0x1097d97d0>"
      ]
     },
     "metadata": {},
     "output_type": "display_data"
    }
   ],
   "source": [
    "plt.hist(U_norm_0[0:320], bins=100)\n",
    "plt.show()"
   ]
  },
  {
   "cell_type": "code",
   "execution_count": 38,
   "metadata": {
    "collapsed": false
   },
   "outputs": [
    {
     "data": {
      "image/png": "[encoded data removed]",
      "text/plain": [
       "<matplotlib.figure.Figure at 0x1099ac450>"
      ]
     },
     "metadata": {},
     "output_type": "display_data"
    }
   ],
   "source": [
    "plt.hist(U_norm_0[320:640], bins=100)\n",
    "plt.show()"
   ]
  },
  {
   "cell_type": "code",
   "execution_count": 39,
   "metadata": {
    "collapsed": false
   },
   "outputs": [
    {
     "data": {
      "image/png": "[encoded data removed]",
      "text/plain": [
       "<matplotlib.figure.Figure at 0x10983a610>"
      ]
     },
     "metadata": {},
     "output_type": "display_data"
    }
   ],
   "source": [
    "plt.hist(U_norm_1[320:640], bins=100)\n",
    "plt.show()"
   ]
  },
  {
   "cell_type": "code",
   "execution_count": 127,
   "metadata": {
    "collapsed": false
   },
   "outputs": [
    {
     "data": {
      "image/png": "[encoded data removed]",
      "text/plain": [
       "<matplotlib.figure.Figure at 0x10c1072d0>"
      ]
     },
     "metadata": {},
     "output_type": "display_data"
    },
    {
     "name": "stdout",
     "output_type": "stream",
     "text": [
      "## Scores\n",
      "\n",
      "#### Rows scores\n",
      "- Rand score: 0.809046576272\n",
      "- Normalized mutual information score: 0.738455346759\n",
      "\n",
      "\n"
     ]
    }
   ],
   "source": [
    "plot_factorization_result(U, S, V)\n",
    "print scores(rows_ind, labels)"
   ]
  },
  {
   "cell_type": "code",
   "execution_count": 128,
   "metadata": {
    "collapsed": false
   },
   "outputs": [
    {
     "name": "stdout",
     "output_type": "stream",
     "text": [
      "[0 0 0 0 0 0 0 0 0 0 0 0 0 0 0 0 0 0 0 0 0 0 0 0 0 0 0 0 0 0 0 0 0 0 0 0 0\n",
      " 0 0 0 0 0 0 0 0 0 0 0 0 0 0 0 0 0 0 0 0 0 0 0 0 0 0 0 0 0 0 0 0 0 0 0 0 0\n",
      " 0 0 0 0 0 0 0 0 0 0 0 0 0 0 0 0 1 0 0 0 0 0 0 0 0 0 1 1 1 1 1 1 0 1 1 1 1\n",
      " 1 1 1 1 1 1 1 1 1 1 1 1 1 1 1 1 1 0 1 1 1 1 1 1 1 1 1 1 1 1 1 0 1 1 0 1 1\n",
      " 1 1 1 1 1 1 1 1 0 1 1 0 0 1 1 1 1 1 1 0 0 1 1 1 1 1 1 1 1 1 1 1 1 1 1 1 1\n",
      " 1 1 1 1 1 1 1 1 1 1 1 1 1 1 1]\n"
     ]
    },
    {
     "data": {
      "image/png": "[encoded data removed]",
      "text/plain": [
       "<matplotlib.figure.Figure at 0x113678910>"
      ]
     },
     "metadata": {},
     "output_type": "display_data"
    }
   ],
   "source": [
    "print rows_ind\n",
    "plt.hist(rows_ind)\n",
    "plt.title('Histogram of Documents clusters found')\n",
    "plt.show()"
   ]
  },
  {
   "cell_type": "code",
   "execution_count": 129,
   "metadata": {
    "collapsed": false
   },
   "outputs": [
    {
     "data": {
      "image/png": "[encoded data removed]",
      "text/plain": [
       "<matplotlib.figure.Figure at 0x11360a790>"
      ]
     },
     "metadata": {},
     "output_type": "display_data"
    }
   ],
   "source": [
    "plt.hist(cols_ind)\n",
    "plt.title('Histogram of Terms clusters found')\n",
    "plt.show()"
   ]
  },
  {
   "cell_type": "code",
   "execution_count": 130,
   "metadata": {
    "collapsed": false
   },
   "outputs": [
    {
     "name": "stdout",
     "output_type": "stream",
     "text": [
      "---------------\n",
      "- term: gente, prob: 0.002786\n",
      "- term: towerfall, prob: 0.002143\n",
      "- term: jogos, prob: 0.001554\n",
      "- term: vai, prob: 0.001541\n",
      "- term: amora, prob: 0.001516\n",
      "- term: matt, prob: 0.001215\n",
      "- term: brasil, prob: 0.001194\n",
      "- term: alves, prob: 0.001179\n",
      "- term: ministério, prob: 0.001055\n",
      "- term: jogo, prob: 0.001040\n",
      "- term: aqui, prob: 0.001039\n",
      "- term: governo, prob: 0.001000\n",
      "- term: pra, prob: 0.000910\n",
      "- term: pessoas, prob: 0.000904\n",
      "- term: pessoal, prob: 0.000901\n",
      "- term: tipo, prob: 0.000867\n",
      "- term: conta, prob: 0.000719\n",
      "- term: ano, prob: 0.000717\n",
      "- term: dias, prob: 0.000701\n",
      "- term: evento, prob: 0.000654\n",
      "\n",
      "---------------\n",
      "- term: minutos, prob: 0.004517\n",
      "- term: gol, prob: 0.004240\n",
      "- term: bola, prob: 0.002351\n",
      "- term: partida, prob: 0.002265\n",
      "- term: pontos, prob: 0.001728\n",
      "- term: barcelona, prob: 0.001704\n",
      "- term: itália, prob: 0.001694\n",
      "- term: técnico, prob: 0.001661\n",
      "- term: espanha, prob: 0.001609\n",
      "- term: campo, prob: 0.001579\n",
      "- term: atacante, prob: 0.001406\n",
      "- term: chance, prob: 0.001348\n",
      "- term: vitória, prob: 0.001245\n",
      "- term: flamengo, prob: 0.001169\n",
      "- term: ronaldo, prob: 0.001136\n",
      "- term: madrid, prob: 0.001132\n",
      "- term: figueirense, prob: 0.001047\n",
      "- term: empate, prob: 0.001047\n",
      "- term: campeonato, prob: 0.001039\n",
      "- term: esquerda, prob: 0.001030\n",
      "\n"
     ]
    }
   ],
   "source": [
    "def print_top_terms(n, term_clust, clust, terms):\n",
    "    # TODO change this (Strings are immutable)\n",
    "    txt = ''\n",
    "    txt += '---------------\\n'\n",
    "    term_clust_prob = term_clust / term_clust.sum()\n",
    "    top_terms_inds = term_clust_prob[:][:, clust].argsort()[-n:][::-1]\n",
    "    for term_ind in top_terms_inds:\n",
    "        term_prob = term_clust_prob[term_ind, clust]\n",
    "        txt += '- term: %s, prob: %f\\n' % (terms[term_ind], term_prob)\n",
    "    return txt\n",
    "\n",
    "print print_top_terms(20, V, 0, count_vect.get_feature_names())\n",
    "print print_top_terms(20, V, 1, count_vect.get_feature_names())"
   ]
  },
  {
   "cell_type": "code",
   "execution_count": 131,
   "metadata": {
    "collapsed": false
   },
   "outputs": [
    {
     "name": "stdout",
     "output_type": "stream",
     "text": [
      "## Games articles cluster:\n",
      "\n",
      "#### Term cluster 3 with probability 0.372773\n",
      "---------------\n",
      "- term: jogos, prob: 0.007618\n",
      "- term: games, prob: 0.005769\n",
      "- term: jogo, prob: 0.003175\n",
      "- term: game, prob: 0.002818\n",
      "- term: cultura, prob: 0.002620\n",
      "- term: pessoas, prob: 0.001966\n",
      "- term: of, prob: 0.001807\n",
      "- term: brasil, prob: 0.001659\n",
      "- term: the, prob: 0.001628\n",
      "- term: indústria, prob: 0.001294\n",
      "- term: assim, prob: 0.001267\n",
      "- term: design, prob: 0.001224\n",
      "- term: wii, prob: 0.001208\n",
      "- term: além, prob: 0.001170\n",
      "- term: mundo, prob: 0.001165\n",
      "\n",
      "#### Term cluster 0 with probability 0.261504\n",
      "---------------\n",
      "- term: gente, prob: 0.002786\n",
      "- term: towerfall, prob: 0.002143\n",
      "- term: jogos, prob: 0.001554\n",
      "- term: vai, prob: 0.001541\n",
      "- term: amora, prob: 0.001516\n",
      "- term: matt, prob: 0.001215\n",
      "- term: brasil, prob: 0.001194\n",
      "- term: alves, prob: 0.001179\n",
      "- term: ministério, prob: 0.001055\n",
      "- term: jogo, prob: 0.001040\n",
      "- term: aqui, prob: 0.001039\n",
      "- term: governo, prob: 0.001000\n",
      "- term: pra, prob: 0.000910\n",
      "- term: pessoas, prob: 0.000904\n",
      "- term: pessoal, prob: 0.000901\n",
      "\n",
      "#### Term cluster 2 with probability 0.230576\n",
      "---------------\n",
      "- term: brasil, prob: 0.002620\n",
      "- term: então, prob: 0.002211\n",
      "- term: alves, prob: 0.001697\n",
      "- term: amora, prob: 0.001315\n",
      "- term: gente, prob: 0.001224\n",
      "- term: ano, prob: 0.001197\n",
      "- term: aí, prob: 0.001116\n",
      "- term: videogames, prob: 0.000972\n",
      "- term: vai, prob: 0.000819\n",
      "- term: game, prob: 0.000747\n",
      "- term: towerfall, prob: 0.000732\n",
      "- term: dia, prob: 0.000700\n",
      "- term: trabalho, prob: 0.000699\n",
      "- term: conselho, prob: 0.000698\n",
      "- term: matt, prob: 0.000629\n",
      "\n"
     ]
    }
   ],
   "source": [
    "def get_top_terms(n, doc_clust, S):\n",
    "    term_clust_prob = S[doc_clust, :] / S[doc_clust, :].sum()\n",
    "    top_terms_clust_inds = S[doc_clust, :].argsort()[-n:][::-1]\n",
    "    top_tems_clust_prob = term_clust_prob[top_terms_clust_inds]\n",
    "    return top_terms_clust_inds, top_tems_clust_prob\n",
    "\n",
    "print '## Games articles cluster:\\n'\n",
    "top_terms_clust_inds, top_tems_clust_prob = get_top_terms(3, 0, S)\n",
    "for t, p in zip(top_terms_clust_inds, top_tems_clust_prob):\n",
    "    print '#### Term cluster %d with probability %f' % (t, p)\n",
    "    print print_top_terms(15, V, t, count_vect.get_feature_names())"
   ]
  },
  {
   "cell_type": "code",
   "execution_count": 138,
   "metadata": {
    "collapsed": true
   },
   "outputs": [],
   "source": [
    "def accuracy(labels_true, labels_pred):\n",
    "    rights = labels_true == labels_pred\n",
    "    return np.sum(rights) / float(len(rights))\n",
    "\n",
    "def get_mistakes(labels_true, labels_pred):\n",
    "    not_labels_pred = np.logical_not(labels_pred)\n",
    "    acc = accuracy(labels_true, labels_pred)\n",
    "    acc_swaped = accuracy(labels_true, not_labels_pred)\n",
    "\n",
    "    if acc_swaped > acc:\n",
    "        best_pred = not_labels_pred\n",
    "    else:\n",
    "        best_pred = labels_pred\n",
    "\n",
    "    rights = labels_true == best_pred\n",
    "    return np.where(rights == False)[0], best_pred"
   ]
  },
  {
   "cell_type": "code",
   "execution_count": 135,
   "metadata": {
    "collapsed": true
   },
   "outputs": [],
   "source": [
    "# opts = {\n",
    "#     'k': [2, 4],\n",
    "#     'l': [2, 4, 6, 8],\n",
    "#     'X': ['X_bin',\n",
    "#           'X_stem_bin',\n",
    "#           'X_train',\n",
    "#           'X_train_stem',\n",
    "#           'X_train_norm',\n",
    "#           'X_train_norm_stem',\n",
    "#           'X_train_tfidf',\n",
    "#           'X_train_tfidf_stem',\n",
    "#           'X_train_norm_tfidf',\n",
    "#           'X_train_norm_tfidf_stem']\n",
    "# }\n",
    "opts = {\n",
    "    'k': [2],\n",
    "    'l': [2],\n",
    "    'X': ['X_bin']\n",
    "}"
   ]
  },
  {
   "cell_type": "code",
   "execution_count": 141,
   "metadata": {
    "collapsed": false
   },
   "outputs": [
    {
     "name": "stdout",
     "output_type": "stream",
     "text": [
      "Writing results/nmfOnIG/k2_l2_X_bin* stuff...\n",
      "[1 1 1 1 1 1 1 1 1 1 1 1 1 1 1 1 1 1 1 1 1 1 1 1 1 1 1 1 1 1 1 1 1 1 1 1 1\n",
      " 1 1 1 1 1 1 1 1 1 1 1 1 1 1 1 1 1 1 1 1 1 1 1 1 1 1 1 1 1 1 1 1 1 1 1 1 1\n",
      " 1 1 1 1 1 1 1 1 1 1 1 1 1 1 1 1 1 1 1 1 1 1 1 1 1 1 0 0 1 0 0 0 1 1 0 1 0\n",
      " 0 0 0 0 0 0 1 1 1 1 1 1 0 0 0 0 1 1 0 1 1 1 1 1 1 1 1 1 0 1 1 1 1 1 1 1 0\n",
      " 0 0 1 1 1 1 1 1 1 0 1 1 1 1 1 1 1 0 0 1 1 1 1 1 1 1 1 1 0 1 1 0 0 0 1 1 1\n",
      " 0 1 0 0 0 0 0 0 0 0 1 1 0 0 1]\n",
      "Finish!\n"
     ]
    }
   ],
   "source": [
    "def run(opts):\n",
    "    statistics = []\n",
    "\n",
    "    for k in opts['k']:\n",
    "        for l in opts['l']:\n",
    "            for data_type in opts['X']:\n",
    "                params_str = 'results/nmfOnIG/k%d_l%d_%s' % (k, l, data_type)\n",
    "                \n",
    "                print 'Writing %s* stuff...' % params_str\n",
    "\n",
    "                md_file = codecs.open(params_str + '.md', 'w', 'utf-8')\n",
    "                md_file.write('Run Params: k%d l%d %s\\n' % (k, l, data_type))\n",
    "                md_file.write('======================\\n\\n')\n",
    "\n",
    "                exec('Data = %s' % data_type)\n",
    "                \n",
    "                best_score = -1.0\n",
    "                for _ in xrange(1):\n",
    "                    U_temp, S_temp, V_temp, rows_ind_temp, cols_ind_temp = matrix_factorization_clustering(Data.toarray(), k, l, onmtf, num_iters=50)\n",
    "                    score = adjusted_rand_score(labels, rows_ind_temp)\n",
    "                    if score > best_score:\n",
    "                        U = U_temp\n",
    "                        S = S_temp\n",
    "                        V = V_temp\n",
    "                        rows_ind = rows_ind_temp\n",
    "                        cols_ind = cols_ind_temp\n",
    "                        best_score = score\n",
    "\n",
    "                statistics.append((params_str, best_score))\n",
    "                \n",
    "                pickle.dump(U, open(params_str + '_U.pkl', 'w'))\n",
    "                pickle.dump(S, open(params_str + '_S.pkl', 'w'))\n",
    "                pickle.dump(V, open(params_str + '_V.pkl', 'w'))\n",
    "                pickle.dump(rows_ind, open(params_str + '_docs_clusters.pkl', 'w'))\n",
    "                pickle.dump(cols_ind, open(params_str + '_terms_clusters.pkl', 'w'))\n",
    "                pickle.dump(Data.toarray(), open(params_str + '_terms_clusters.pkl', 'w'))\n",
    "                \n",
    "                md_file.write(scores(labels, rows_ind))\n",
    "\n",
    "                mistakes_inds, best_preds = get_mistakes(labels, rows_ind)\n",
    "                print best_preds\n",
    "\n",
    "                for kth in xrange(k):\n",
    "                    md_file.write('## %d articles cluster:\\n\\n' % kth)\n",
    "                    top_terms_clust_inds, top_tems_clust_prob = get_top_terms(min(l,3), kth, S)\n",
    "                    for t, p in zip(top_terms_clust_inds, top_tems_clust_prob):\n",
    "                        md_file.write('#### Term cluster %d with probability %f\\n' % (t, p))\n",
    "                        if 'stem' in data_type:\n",
    "                            md_file.write(print_top_terms(30, V, t, count_vect_stem.get_feature_names()))\n",
    "                        else:\n",
    "                            md_file.write(print_top_terms(30, V, t, count_vect.get_feature_names()))\n",
    "                        md_file.write('\\n')\n",
    "                    \n",
    "                    md_file.write('#### Mistakes\\n')\n",
    "                    for mistake_ind in mistakes_inds:\n",
    "                        if best_preds[mistake_ind] == 1:\n",
    "                            md_file.write('- %s\\n' % sport_news_df['url'].loc[mistake_ind - len(arena_news_df)])\n",
    "                        else:\n",
    "                            md_file.write('- %s\\n' % arena_news_df['url'].loc[mistake_ind])\n",
    "                        \n",
    "                    md_file.write('\\n')\n",
    "                \n",
    "                md_file.close()\n",
    "                print 'Finish!'\n",
    "\n",
    "    statistics.sort(key=lambda tup: tup[1])\n",
    "\n",
    "    statistics_file = codecs.open('results/nmfOnIG/statistics.md', 'w')\n",
    "    statistics_file.write('# Best configurations (rand score)\\n\\n')\n",
    "\n",
    "    for k, v in statistics:\n",
    "        statistics_file.write('- configuration: %s, score: %.2f\\n\\n' % (k, v))\n",
    "\n",
    "run(opts)"
   ]
  },
  {
   "cell_type": "code",
   "execution_count": 152,
   "metadata": {
    "collapsed": false
   },
   "outputs": [],
   "source": [
    "def load(k, l, data_type):\n",
    "    params_str = 'results/nmfOnIG/k%d_l%d_%s' % (k, l, data_type)\n",
    "    U = pickle.loads(params_str + '_U.pkl')\n",
    "    S = pickle.loads(params_str + '_S.pkl')\n",
    "    V = pickle.loads(params_str + '_V.pkl')\n",
    "    rows_ind = pickle.loads(params_str + '_docs_clusters.pkl')\n",
    "    cols_ind = pickle.loads(params_str + '_terms_clusters.pkl')\n",
    "    data = pickle.loads(params_str + '_terms_clusters.pkl')\n",
    "    return U, S, V, rows_ind, cols_ind, data"
   ]
  },
  {
   "cell_type": "code",
   "execution_count": 149,
   "metadata": {
    "collapsed": false
   },
   "outputs": [
    {
     "ename": "UnpicklingError",
     "evalue": "unpickling stack underflow",
     "output_type": "error",
     "traceback": [
      "\u001b[0;31m---------------------------------------------------------------------------\u001b[0m",
      "\u001b[0;31mUnpicklingError\u001b[0m                           Traceback (most recent call last)",
      "\u001b[0;32m<ipython-input-149-26da380acb74>\u001b[0m in \u001b[0;36m<module>\u001b[0;34m()\u001b[0m\n\u001b[1;32m     10\u001b[0m     \u001b[0;32mprint\u001b[0m \u001b[0mscores\u001b[0m\u001b[0;34m(\u001b[0m\u001b[0mnew_labels_true\u001b[0m\u001b[0;34m,\u001b[0m \u001b[0mrows_ind\u001b[0m\u001b[0;34m)\u001b[0m\u001b[0;34m\u001b[0m\u001b[0m\n\u001b[1;32m     11\u001b[0m \u001b[0;34m\u001b[0m\u001b[0m\n\u001b[0;32m---> 12\u001b[0;31m \u001b[0mrun_nmf_compute_score\u001b[0m\u001b[0;34m(\u001b[0m\u001b[0;36m2\u001b[0m\u001b[0;34m,\u001b[0m \u001b[0;36m8\u001b[0m\u001b[0;34m,\u001b[0m \u001b[0;34m'X_train_norm_tfidf'\u001b[0m\u001b[0;34m)\u001b[0m\u001b[0;34m\u001b[0m\u001b[0m\n\u001b[0m",
      "\u001b[0;32m<ipython-input-149-26da380acb74>\u001b[0m in \u001b[0;36mrun_nmf_compute_score\u001b[0;34m(k, l, data_type)\u001b[0m\n\u001b[1;32m      1\u001b[0m \u001b[0;32mdef\u001b[0m \u001b[0mrun_nmf_compute_score\u001b[0m\u001b[0;34m(\u001b[0m\u001b[0mk\u001b[0m\u001b[0;34m,\u001b[0m \u001b[0ml\u001b[0m\u001b[0;34m,\u001b[0m \u001b[0mdata_type\u001b[0m\u001b[0;34m)\u001b[0m\u001b[0;34m:\u001b[0m\u001b[0;34m\u001b[0m\u001b[0m\n\u001b[0;32m----> 2\u001b[0;31m     \u001b[0mU\u001b[0m\u001b[0;34m,\u001b[0m \u001b[0mS\u001b[0m\u001b[0;34m,\u001b[0m \u001b[0mV\u001b[0m\u001b[0;34m,\u001b[0m \u001b[0mrows_ind\u001b[0m\u001b[0;34m,\u001b[0m \u001b[0mcols_ind\u001b[0m\u001b[0;34m,\u001b[0m \u001b[0mdata\u001b[0m \u001b[0;34m=\u001b[0m \u001b[0mload\u001b[0m\u001b[0;34m(\u001b[0m\u001b[0mk\u001b[0m\u001b[0;34m,\u001b[0m \u001b[0ml\u001b[0m\u001b[0;34m,\u001b[0m \u001b[0mdata_type\u001b[0m\u001b[0;34m)\u001b[0m\u001b[0;34m\u001b[0m\u001b[0m\n\u001b[0m\u001b[1;32m      3\u001b[0m     \u001b[0mmistakes_inds\u001b[0m\u001b[0;34m,\u001b[0m \u001b[0mbest_preds\u001b[0m \u001b[0;34m=\u001b[0m \u001b[0mget_mistakes\u001b[0m\u001b[0;34m(\u001b[0m\u001b[0mlabels\u001b[0m\u001b[0;34m,\u001b[0m \u001b[0mrows_ind\u001b[0m\u001b[0;34m)\u001b[0m\u001b[0;34m\u001b[0m\u001b[0m\n\u001b[1;32m      4\u001b[0m \u001b[0;34m\u001b[0m\u001b[0m\n\u001b[1;32m      5\u001b[0m     new_labels_true = np.array((100 - len(mistakes_inds[mistakes_inds < 100]))*[0] +\n",
      "\u001b[0;32m<ipython-input-99-6b9325804546>\u001b[0m in \u001b[0;36mload\u001b[0;34m(k, l, data_type)\u001b[0m\n\u001b[1;32m      1\u001b[0m \u001b[0;32mdef\u001b[0m \u001b[0mload\u001b[0m\u001b[0;34m(\u001b[0m\u001b[0mk\u001b[0m\u001b[0;34m,\u001b[0m \u001b[0ml\u001b[0m\u001b[0;34m,\u001b[0m \u001b[0mdata_type\u001b[0m\u001b[0;34m)\u001b[0m\u001b[0;34m:\u001b[0m\u001b[0;34m\u001b[0m\u001b[0m\n\u001b[1;32m      2\u001b[0m     \u001b[0mparams_str\u001b[0m \u001b[0;34m=\u001b[0m \u001b[0;34m'results/nmfOnIG/k%d_l%d_%s'\u001b[0m \u001b[0;34m%\u001b[0m \u001b[0;34m(\u001b[0m\u001b[0mk\u001b[0m\u001b[0;34m,\u001b[0m \u001b[0ml\u001b[0m\u001b[0;34m,\u001b[0m \u001b[0mdata_type\u001b[0m\u001b[0;34m)\u001b[0m\u001b[0;34m\u001b[0m\u001b[0m\n\u001b[0;32m----> 3\u001b[0;31m     \u001b[0mU\u001b[0m \u001b[0;34m=\u001b[0m \u001b[0mpickle\u001b[0m\u001b[0;34m.\u001b[0m\u001b[0mloads\u001b[0m\u001b[0;34m(\u001b[0m\u001b[0mparams_str\u001b[0m \u001b[0;34m+\u001b[0m \u001b[0;34m'_U.pkl'\u001b[0m\u001b[0;34m)\u001b[0m\u001b[0;34m\u001b[0m\u001b[0m\n\u001b[0m\u001b[1;32m      4\u001b[0m     \u001b[0mS\u001b[0m \u001b[0;34m=\u001b[0m \u001b[0mpickle\u001b[0m\u001b[0;34m.\u001b[0m\u001b[0mloads\u001b[0m\u001b[0;34m(\u001b[0m\u001b[0mparams_str\u001b[0m \u001b[0;34m+\u001b[0m \u001b[0;34m'_S.pkl'\u001b[0m\u001b[0;34m)\u001b[0m\u001b[0;34m\u001b[0m\u001b[0m\n\u001b[1;32m      5\u001b[0m     \u001b[0mV\u001b[0m \u001b[0;34m=\u001b[0m \u001b[0mpickle\u001b[0m\u001b[0;34m.\u001b[0m\u001b[0mloads\u001b[0m\u001b[0;34m(\u001b[0m\u001b[0mparams_str\u001b[0m \u001b[0;34m+\u001b[0m \u001b[0;34m'_V.pkl'\u001b[0m\u001b[0;34m)\u001b[0m\u001b[0;34m\u001b[0m\u001b[0m\n",
      "\u001b[0;31mUnpicklingError\u001b[0m: unpickling stack underflow"
     ]
    }
   ],
   "source": [
    "def run_nmf_compute_score(k, l, data_type):\n",
    "    U, S, V, rows_ind, cols_ind, data = load(k, l, data_type)\n",
    "    mistakes_inds, best_preds = get_mistakes(labels, rows_ind)\n",
    "\n",
    "    new_labels_true = np.array((100 - len(mistakes_inds[mistakes_inds < 100]))*[0] +\n",
    "                              (100 - len(mistakes_inds[mistakes_inds >= 100]))*[1])\n",
    "\n",
    "    np.delete(data, mistakes_inds)\n",
    "    U, S, V, rows_ind, cols_ind = matrix_factorization_clustering(data, k, l, onmtf, num_iters=50)\n",
    "    print scores(new_labels_true, rows_ind)\n",
    "\n",
    "run_nmf_compute_score(2, 8, 'X_train_norm_tfidf')"
   ]
  },
  {
   "cell_type": "markdown",
   "metadata": {
    "collapsed": true
   },
   "source": [
    "| Tables        | Are           | Cool  |\n",
    "|:-------------:|:-------------:|:-----:|\n",
    "| col 3 is      | right-aligned | $1600 |\n",
    "| col 2 is      | centered      |   $12 |\n",
    "| zebra stripes | are neat      |    $1 |"
   ]
  },
  {
   "cell_type": "code",
   "execution_count": null,
   "metadata": {
    "collapsed": true
   },
   "outputs": [],
   "source": []
  }
 ],
 "metadata": {
  "kernelspec": {
   "display_name": "Python 2",
   "language": "python",
   "name": "python2"
  },
  "language_info": {
   "codemirror_mode": {
    "name": "ipython",
    "version": 2
   },
   "file_extension": ".py",
   "mimetype": "text/x-python",
   "name": "python",
   "nbconvert_exporter": "python",
   "pygments_lexer": "ipython2",
   "version": "2.7.6"
  }
 },
 "nbformat": 4,
 "nbformat_minor": 0
}

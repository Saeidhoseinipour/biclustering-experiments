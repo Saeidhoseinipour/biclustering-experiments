{
 "cells": [
  {
   "cell_type": "code",
   "execution_count": 16,
   "metadata": {
    "collapsed": true
   },
   "outputs": [],
   "source": [
    "import pandas as pd\n",
    "import numpy as np\n",
    "import seaborn as sns\n",
    "import cPickle as pickle\n",
    "import codecs\n",
    "\n",
    "from matplotlib import pyplot as plt\n",
    "from sklearn.pipeline import Pipeline\n",
    "from sklearn.feature_extraction.text import CountVectorizer\n",
    "from sklearn.feature_extraction.text import TfidfTransformer\n",
    "from sklearn import metrics\n",
    "from sklearn.cluster import KMeans\n",
    "from sklearn.cluster.bicluster import SpectralCoclustering\n",
    "from biclustering.biclustering import DeltaBiclustering\n",
    "from sklearn.metrics.cluster import normalized_mutual_info_score\n",
    "from sklearn.metrics.cluster import adjusted_rand_score"
   ]
  },
  {
   "cell_type": "code",
   "execution_count": 17,
   "metadata": {
    "collapsed": true
   },
   "outputs": [],
   "source": [
    "%matplotlib inline\n",
    "sns.set_palette(\"deep\", desat=.6)\n",
    "sns.set_context(rc={\"figure.figsize\": (8, 4)})"
   ]
  },
  {
   "cell_type": "code",
   "execution_count": 18,
   "metadata": {
    "collapsed": true
   },
   "outputs": [],
   "source": [
    "def generate_dataset(option, noise=1, noise_background=True, shuffle=False):\n",
    "    shape = (150,150)\n",
    "    n,m = shape\n",
    "    \n",
    "    # values can't be a lot far...\n",
    "    centers = [20, 40, 60, 80, 100]\n",
    "    \n",
    "    y_row = np.zeros(150)\n",
    "    y_col = np.zeros(150)\n",
    "\n",
    "    if noise_background:\n",
    "        data = np.random.rand(n, m)*100\n",
    "    else:\n",
    "        data = np.zeros(n*m).reshape(shape)\n",
    "\n",
    "    if option == 'a':\n",
    "        data[60:110][:,70:140] = np.random.rand(50,70)*noise + centers[0]\n",
    "        y_row[60:110] += 1\n",
    "        y_col[70:140] += 1\n",
    "    elif option == 'd':\n",
    "        data[0:50][:,0:70] = np.random.rand(50,70)*noise + centers[0]\n",
    "        y_row[0:50] += 1\n",
    "        y_col[0:70] += 1\n",
    "\n",
    "        data[50:100][:,50:100] = np.random.rand(50,50)*noise + centers[2]\n",
    "        y_row[50:100] += 2\n",
    "        y_col[50:100] += 2\n",
    "\n",
    "        data[100:150][:,80:150] = np.random.rand(50,70)*noise + centers[1]\n",
    "        y_row[100:150] += 3\n",
    "        y_col[80:150] += 3\n",
    "    elif option == 'e':\n",
    "        data[0:70][:,0:50] = np.random.rand(70,50)*noise + centers[3]\n",
    "        y_row[0:70] += 1\n",
    "        y_col[0:50] += 1\n",
    "\n",
    "        data[50:100][:,50:100] = np.random.rand(50,50)*noise + centers[1]\n",
    "        y_row[50:100] += 2\n",
    "        y_col[50:100] += 2\n",
    "\n",
    "        data[80:150][:,100:150] = np.random.rand(70,50)*noise + centers[2]\n",
    "        y_row[80:150] += 3\n",
    "        y_col[100:150] += 3\n",
    "    elif option == 'f':\n",
    "        data[0:50][:,0:40] = np.random.rand(50,40)*noise + centers[4]\n",
    "        y_row[0:50] += 1\n",
    "        y_col[0:40] += 1\n",
    "\n",
    "        data[50:150][:,0:40] = np.random.rand(100,40)*noise + centers[0]\n",
    "        y_row[50:150] += 2\n",
    "\n",
    "        data[110:150][:,40:95] = np.random.rand(40,55)*noise + centers[2]\n",
    "        y_row[110:150] += 3\n",
    "        y_col[40:95] += 2\n",
    "\n",
    "        data[110:150][:,95:150] = np.random.rand(40,55)*noise + centers[1]\n",
    "        y_row[110:150] += 3\n",
    "        y_col[95:150] += 3\n",
    "    elif option == 'g':\n",
    "        data[0:110][:,0:40] = np.random.rand(110,40)*noise + centers[0]\n",
    "        data[110:150][:,0:110] = np.random.rand(40,110)*noise + centers[2]\n",
    "        data[40:150][:,110:150] = np.random.rand(110,40)*noise + centers[1]\n",
    "        data[0:40][:,40:150] = np.random.rand(40,110)*noise + centers[3]\n",
    "    elif option == 'h':\n",
    "        data[0:90][:,0:90] = np.random.rand(90,90)*noise + centers[0]\n",
    "        data[35:55][:,35:55] = (np.random.rand(20,20)*noise + centers[1]) + data[35:55][:,35:55]\n",
    "        data[110:140][:,35:90] = np.random.rand(30,55)*noise + centers[4]\n",
    "        data[0:140][:,110:150] = np.random.rand(140,40)*noise + centers[2]\n",
    "        data[0:55][:,130:150] = (np.random.rand(55,20)*noise + centers[3]) + data[0:55][:,130:150]\n",
    "    elif option == 'i':\n",
    "        data[20:70][:,20:70] = np.random.rand(50,50)*noise + centers[0]\n",
    "        data[20:70][:,100:150] = np.random.rand(50,50)*noise + centers[1]\n",
    "        data[50:110][:,50:120] = np.random.rand(60,70)*noise + centers[2]\n",
    "        data[120:150][:,20:100] = np.random.rand(30,80)*noise + centers[3]\n",
    "\n",
    "    if shuffle:\n",
    "        np.random.shuffle(data)\n",
    "        np.random.shuffle(data.T)\n",
    "\n",
    "    return data, y_row, y_col"
   ]
  },
  {
   "cell_type": "code",
   "execution_count": 49,
   "metadata": {
    "collapsed": false
   },
   "outputs": [],
   "source": [
    "def matrix_factorization_overlapping_bin(X, k, l, num_iters=50):\n",
    "    def weights_initialization(X, n, m, k):\n",
    "        shuffle_inds = np.random.permutation(n)\n",
    "        cluster_end_ind = 0\n",
    "        for i in xrange(k):\n",
    "            cluster_init_ind = cluster_end_ind\n",
    "            cluster_end_ind = round((i + 1) * n / k)\n",
    "            X[shuffle_inds[cluster_init_ind : cluster_end_ind], i] = 1\n",
    "        return X\n",
    "\n",
    "    def calculate_block_matrix(X, F, G, S, k, l):\n",
    "        for i in xrange(k):\n",
    "            for j in xrange(l):\n",
    "                S[i, j] = np.mean(X[F[:, i] == 1][:, G[i][:, j] == 1])\n",
    "        where_are_NaNs = np.isnan(S)\n",
    "        S[where_are_NaNs] = 0\n",
    "        return S\n",
    "\n",
    "    n, m = X.shape\n",
    "\n",
    "    error_best = np.inf\n",
    "\n",
    "    F = weights_initialization(np.zeros((n, k)), n, m, k)\n",
    "\n",
    "    G = []\n",
    "    for i in xrange(k):\n",
    "        G.append( weights_initialization(np.zeros((m, l)), m, n, l) )\n",
    "\n",
    "    S = np.random.rand(k, l)\n",
    "\n",
    "    for iter_ind in xrange(num_iters):\n",
    "        S = calculate_block_matrix(X, F, G, S, k, l)\n",
    "\n",
    "        # Update G\n",
    "        for i in xrange(k):\n",
    "            F_t = F[F[:, i] == 1, :].dot(S)\n",
    "            X_t = X[F[:, i] == 1, :]\n",
    "            G[i] = np.zeros((m, l))\n",
    "            for j in xrange(m):\n",
    "                clust_len, _ = X_t.shape\n",
    "                diff = F_t - X_t[:, j].reshape(clust_len, 1).dot(np.ones(l).reshape(1, l))\n",
    "                errors = np.diag(diff.T.dot(diff))\n",
    "                minV = np.min(errors)\n",
    "                index = np.where(errors <= minV)[0]\n",
    "                G[i][j, index[np.random.randint(len(index))]] = 1\n",
    "\n",
    "            while np.linalg.det(G[i].T.dot(G[i])) <= 0:\n",
    "                erros = (X_t - F_t.dot(G[i].T)) ** 2\n",
    "                erros = np.sum(erros.dot(G[i]), axis=1) / np.sum(G[i], axis=0)\n",
    "                erros[np.where(np.sum(G[i], axis=0) <= 1)] = -np.inf\n",
    "                quantidade = np.sum(G[i], axis=0)\n",
    "                indexMin = np.argmin(quantidade)\n",
    "                indexMax = np.argmax(erros)\n",
    "                indexes = np.nonzero(G[i][:, indexMax])[0]\n",
    "\n",
    "                for j in indexes:\n",
    "                    if np.random.rand(1) > 0.5:\n",
    "                        G[i][j, indexMax] = 0.0\n",
    "                        G[i][j, indexMin] = 1.0\n",
    "\n",
    "#         S = calculate_block_matrix(X, F, G, S, k, l)\n",
    "\n",
    "        G_t = np.zeros((k, m))\n",
    "        for i in xrange(k):\n",
    "            G_t[i, :] = S[i, :].dot(G[i].T)\n",
    "\n",
    "        F = np.zeros((n, k))\n",
    "        for j in xrange(n):\n",
    "            diff = G_t - np.ones(k).reshape(k, 1).dot(X[j, :].reshape(1, m))\n",
    "            errors = np.diag(diff.dot(diff.T))\n",
    "            minV = np.min(errors)\n",
    "            index = np.where(errors <= minV)[0]\n",
    "            F[j, index[np.random.randint(len(index))]] = 1\n",
    "\n",
    "        while np.linalg.det(F.T.dot(F)) <= 0:\n",
    "            erros = (X - F.dot(G_t)) ** 2\n",
    "            erros = np.sum(F.T.dot(erros), axis=1) / np.sum(F, axis=0)\n",
    "            erros[np.where(np.sum(F, axis=0) <= 1)] = -np.inf\n",
    "            quantidade = np.sum(F, axis=0)\n",
    "            indexMin = np.argmin(quantidade)\n",
    "            indexMax = np.argmax(erros)\n",
    "            indexes = np.nonzero(F[:, indexMax])[0]\n",
    "\n",
    "            end = len(indexes)\n",
    "            indexes_p = np.random.permutation(end)\n",
    "            F[indexes[indexes_p[0:np.floor(end/2.0)]], indexMax] = 0.0\n",
    "            F[indexes[indexes_p[0:np.floor(end/2.0)]], indexMin] = 1.0\n",
    "\n",
    "        error = np.sum((X - F.dot(G_t))**2)\n",
    "        print error\n",
    "\n",
    "        if error < error_best:\n",
    "            error = error_best\n",
    "            F_best = F\n",
    "            S_best = S\n",
    "            G_best = G\n",
    "            G_t_best = G_t\n",
    "\n",
    "    rows_ind = np.argmax(F_best, axis=1)\n",
    "\n",
    "    return F, S, G, G_t, rows_ind, error_best"
   ]
  },
  {
   "cell_type": "code",
   "execution_count": 50,
   "metadata": {
    "collapsed": false
   },
   "outputs": [
    {
     "data": {
      "image/png": "[encoded data removed]",
      "text/plain": [
       "<matplotlib.figure.Figure at 0x108dc1050>"
      ]
     },
     "metadata": {},
     "output_type": "display_data"
    }
   ],
   "source": [
    "n, m = (6, 8)\n",
    "X = .01 * np.random.rand(n, m)\n",
    "X[0:2][:, 0:4] = 1 + .01 * np.random.random()\n",
    "X[2:4][:, 4:8] = .6 + .01 * np.random.random()\n",
    "X[4:6][:, 0:8] = .8 + .01 * np.random.random()\n",
    "\n",
    "plt.matshow(X, cmap=plt.cm.Blues)\n",
    "plt.title('Original data')\n",
    "plt.grid()\n",
    "plt.show()"
   ]
  },
  {
   "cell_type": "code",
   "execution_count": 51,
   "metadata": {
    "collapsed": false
   },
   "outputs": [
    {
     "name": "stdout",
     "output_type": "stream",
     "text": [
      "2.43299886315\n",
      "0.000133362896656\n",
      "0.000133362896656\n",
      "0.000133362896656\n",
      "0.000133362896656\n",
      "0.000133362896656\n",
      "0.000133362896656\n",
      "0.000133362896656\n",
      "0.000133362896656\n",
      "0.000133362896656\n",
      "0.000133362896656\n",
      "0.000133362896656\n",
      "0.000133362896656\n",
      "0.000133362896656\n",
      "0.000133362896656\n",
      "0.000133362896656\n",
      "0.000133362896656\n",
      "0.000133362896656\n",
      "0.000133362896656\n",
      "0.000133362896656\n",
      "0.000133362896656\n",
      "0.000133362896656\n",
      "0.000133362896656\n",
      "0.000133362896656\n",
      "0.000133362896656\n",
      "0.000133362896656\n",
      "0.000133362896656\n",
      "0.000133362896656\n",
      "0.000133362896656\n",
      "0.000133362896656\n",
      "0.000133362896656\n",
      "0.000133362896656\n",
      "0.000133362896656\n",
      "0.000133362896656\n",
      "0.000133362896656\n",
      "0.000133362896656\n",
      "0.000133362896656\n",
      "0.000133362896656\n",
      "0.000133362896656\n",
      "0.000133362896656\n",
      "0.000133362896656\n",
      "0.000133362896656\n",
      "0.000133362896656\n",
      "0.000133362896656\n",
      "0.000133362896656\n",
      "0.000133362896656\n",
      "0.000133362896656\n",
      "0.000133362896656\n",
      "0.000133362896656\n",
      "0.000133362896656\n",
      "0.000133362896656\n",
      "0.000133362896656\n",
      "0.000133362896656\n",
      "0.000133362896656\n",
      "0.000133362896656\n",
      "0.000133362896656\n",
      "0.000133362896656\n",
      "0.000133362896656\n",
      "0.000133362896656\n",
      "0.000133362896656\n",
      "0.000133362896656\n",
      "0.000133362896656\n",
      "0.000133362896656\n",
      "0.000133362896656\n",
      "0.000133362896656\n",
      "0.000133362896656\n",
      "0.000133362896656\n",
      "0.000133362896656\n",
      "0.000133362896656\n",
      "0.000133362896656\n",
      "0.000133362896656\n",
      "0.000133362896656\n",
      "0.000133362896656\n",
      "0.000133362896656\n",
      "0.000133362896656\n",
      "0.000133362896656\n",
      "0.000133362896656\n",
      "0.000133362896656\n",
      "0.000133362896656\n",
      "0.000133362896656\n",
      "0.000133362896656\n",
      "0.000133362896656\n",
      "0.000133362896656\n",
      "0.000133362896656\n",
      "0.000133362896656\n",
      "0.000133362896656\n",
      "0.000133362896656\n",
      "0.000133362896656\n",
      "0.000133362896656\n",
      "0.000133362896656\n",
      "0.000133362896656\n",
      "0.000133362896656\n",
      "0.000133362896656\n",
      "0.000133362896656\n",
      "0.000133362896656\n",
      "0.000133362896656\n",
      "0.000133362896656\n",
      "0.000133362896656\n",
      "0.000133362896656\n",
      "0.000133362896656\n"
     ]
    }
   ],
   "source": [
    "F, S, G, G_t, rows_ind, error = matrix_factorization_overlapping_bin(X, 3, 2, num_iters=100)"
   ]
  },
  {
   "cell_type": "code",
   "execution_count": 52,
   "metadata": {
    "collapsed": false
   },
   "outputs": [
    {
     "data": {
      "image/png": "[encoded data removed]",
      "text/plain": [
       "<matplotlib.figure.Figure at 0x10949d110>"
      ]
     },
     "metadata": {},
     "output_type": "display_data"
    }
   ],
   "source": [
    "plt.matshow(F, cmap=plt.cm.Blues)\n",
    "plt.title('Original data')\n",
    "plt.grid()\n",
    "plt.show()"
   ]
  },
  {
   "cell_type": "code",
   "execution_count": 53,
   "metadata": {
    "collapsed": false
   },
   "outputs": [
    {
     "data": {
      "image/png": "[encoded data removed]",
      "text/plain": [
       "<matplotlib.figure.Figure at 0x10953c250>"
      ]
     },
     "metadata": {},
     "output_type": "display_data"
    }
   ],
   "source": [
    "plt.matshow(S, cmap=plt.cm.Blues)\n",
    "plt.title('Original data')\n",
    "plt.grid()\n",
    "plt.show()"
   ]
  },
  {
   "cell_type": "code",
   "execution_count": 54,
   "metadata": {
    "collapsed": false
   },
   "outputs": [
    {
     "data": {
      "image/png": "[encoded data removed]",
      "text/plain": [
       "<matplotlib.figure.Figure at 0x108dad4d0>"
      ]
     },
     "metadata": {},
     "output_type": "display_data"
    }
   ],
   "source": [
    "plt.matshow(G_t, cmap=plt.cm.Blues)\n",
    "plt.title('Original data')\n",
    "plt.grid()\n",
    "plt.show()"
   ]
  },
  {
   "cell_type": "code",
   "execution_count": null,
   "metadata": {
    "collapsed": true
   },
   "outputs": [],
   "source": []
  }
 ],
 "metadata": {
  "kernelspec": {
   "display_name": "Python 2",
   "language": "python",
   "name": "python2"
  },
  "language_info": {
   "codemirror_mode": {
    "name": "ipython",
    "version": 2
   },
   "file_extension": ".py",
   "mimetype": "text/x-python",
   "name": "python",
   "nbconvert_exporter": "python",
   "pygments_lexer": "ipython2",
   "version": "2.7.10"
  }
 },
 "nbformat": 4,
 "nbformat_minor": 0
}

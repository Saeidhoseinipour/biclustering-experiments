{
 "cells": [
  {
   "cell_type": "code",
   "execution_count": 1,
   "metadata": {
    "collapsed": true
   },
   "outputs": [],
   "source": [
    "import numpy as np\n",
    "import random\n",
    "import pandas as pd\n",
    "import sklearn\n",
    "\n",
    "from matplotlib import pyplot as plt\n",
    "plt.rcParams['figure.figsize'] = (10.0, 8.0)\n",
    "\n",
    "from sklearn.datasets import make_biclusters\n",
    "from sklearn.datasets import samples_generator as sg\n",
    "from sklearn.datasets import fetch_20newsgroups\n",
    "from sklearn.feature_extraction.text import CountVectorizer\n",
    "from sklearn.feature_extraction.text import TfidfTransformer\n",
    "from sklearn import preprocessing\n",
    "# from sklearn.cluster.bicluster import SpectralCoclustering\n",
    "from sklearn.metrics import consensus_score\n",
    "from sklearn.metrics.cluster import normalized_mutual_info_score\n",
    "from sklearn.metrics.cluster import adjusted_rand_score\n",
    "from biclustering import DeltaBiclustering, MSR"
   ]
  },
  {
   "cell_type": "code",
   "execution_count": 2,
   "metadata": {
    "collapsed": false
   },
   "outputs": [
    {
     "name": "stdout",
     "output_type": "stream",
     "text": [
      "Populating the interactive namespace from numpy and matplotlib\n"
     ]
    },
    {
     "name": "stderr",
     "output_type": "stream",
     "text": [
      "WARNING: pylab import has clobbered these variables: ['random']\n",
      "`%matplotlib` prevents importing * from pylab and numpy\n"
     ]
    }
   ],
   "source": [
    "%pylab inline"
   ]
  },
  {
   "cell_type": "code",
   "execution_count": 3,
   "metadata": {
    "collapsed": true
   },
   "outputs": [],
   "source": [
    "def generate_dataset(option, noise=1, noise_background=True, shuffle=False):\n",
    "    \"\"\"\n",
    "    This function generates syntetic datasets as described in the paper\n",
    "    (http://cs-people.bu.edu/panagpap/Research/Bio/bicluster_survey.pdf)\n",
    "    - Figure 4.\n",
    "    \n",
    "    Params\n",
    "        option (str): bicluster structure ('a' to 'i')\n",
    "        noise (int): value of the noise in the matrix\n",
    "        noise_background (bool): positions where is not a bicluster should contain noise\n",
    "            if this parameter is set to True\n",
    "        shuffle (bool): shuffle lines and columns of the matrix if this parameter is set\n",
    "            to True\n",
    "\n",
    "    Returns\n",
    "        data (array_like): matrix generated\n",
    "    \"\"\"\n",
    "    shape = (150,150)\n",
    "    n,m = shape\n",
    "    \n",
    "    # values shouldn't be a lot far...\n",
    "    centers = [20, 40, 60, 80, 100]\n",
    "    \n",
    "    y_row = np.zeros(150)\n",
    "    y_col = np.zeros(150)\n",
    "\n",
    "    if noise_background:\n",
    "        data = np.random.rand(n, m)*100\n",
    "    else:\n",
    "        data = np.zeros(n*m).reshape(shape)\n",
    "\n",
    "    if option == 'a':\n",
    "        data[60:110][:,70:140] = np.random.rand(50,70)*noise + centers[0]\n",
    "        y_row[60:110] += 1\n",
    "        y_col[70:140] += 1\n",
    "    elif option == 'd':\n",
    "        data[0:50][:,0:70] = np.random.rand(50,70)*noise + centers[0]\n",
    "        y_row[0:50] += 1\n",
    "        y_col[0:70] += 1\n",
    "\n",
    "        data[50:100][:,50:100] = np.random.rand(50,50)*noise + centers[2]\n",
    "        y_row[50:100] += 2\n",
    "        y_col[50:100] += 2\n",
    "\n",
    "        data[100:150][:,80:150] = np.random.rand(50,70)*noise + centers[1]\n",
    "        y_row[100:150] += 3\n",
    "        y_col[80:150] += 3\n",
    "    elif option == 'e':\n",
    "        data[0:70][:,0:50] = np.random.rand(70,50)*noise + centers[3]\n",
    "        y_row[0:70] += 1\n",
    "        y_col[0:50] += 1\n",
    "\n",
    "        data[50:100][:,50:100] = np.random.rand(50,50)*noise + centers[1]\n",
    "        y_row[50:100] += 2\n",
    "        y_col[50:100] += 2\n",
    "\n",
    "        data[80:150][:,100:150] = np.random.rand(70,50)*noise + centers[2]\n",
    "        y_row[80:150] += 3\n",
    "        y_col[100:150] += 3\n",
    "    elif option == 'f':\n",
    "        data[0:50][:,0:40] = np.random.rand(50,40)*noise + centers[4]\n",
    "        y_row[0:50] += 1\n",
    "        y_col[0:40] += 1\n",
    "\n",
    "        data[50:150][:,0:40] = np.random.rand(100,40)*noise + centers[0]\n",
    "        y_row[50:150] += 2\n",
    "\n",
    "        data[110:150][:,40:95] = np.random.rand(40,55)*noise + centers[2]\n",
    "        y_row[110:150] += 3\n",
    "        y_col[40:95] += 2\n",
    "\n",
    "        data[110:150][:,95:150] = np.random.rand(40,55)*noise + centers[1]\n",
    "        y_row[110:150] += 3\n",
    "        y_col[95:150] += 3\n",
    "    elif option == 'g':\n",
    "        data[0:110][:,0:40] = np.random.rand(110,40)*noise + centers[0]\n",
    "        data[110:150][:,0:110] = np.random.rand(40,110)*noise + centers[2]\n",
    "        data[40:150][:,110:150] = np.random.rand(110,40)*noise + centers[1]\n",
    "        data[0:40][:,40:150] = np.random.rand(40,110)*noise + centers[3]\n",
    "    elif option == 'h':\n",
    "        data[0:90][:,0:90] = np.random.rand(90,90)*noise + centers[0]\n",
    "        data[35:55][:,35:55] = (np.random.rand(20,20)*noise + centers[1]) + data[35:55][:,35:55]\n",
    "        data[110:140][:,35:90] = np.random.rand(30,55)*noise + centers[4]\n",
    "        data[0:140][:,110:150] = np.random.rand(140,40)*noise + centers[2]\n",
    "        data[0:55][:,130:150] = (np.random.rand(55,20)*noise + centers[3]) + data[0:55][:,130:150]\n",
    "    elif option == 'i':\n",
    "        data[20:70][:,20:70] = np.random.rand(50,50)*noise + centers[0]\n",
    "        data[20:70][:,100:150] = np.random.rand(50,50)*noise + centers[1]\n",
    "        data[50:110][:,50:120] = np.random.rand(60,70)*noise + centers[2]\n",
    "        data[120:150][:,20:100] = np.random.rand(30,80)*noise + centers[3]\n",
    "\n",
    "    if shuffle:\n",
    "        np.random.shuffle(data)\n",
    "        np.random.shuffle(data.T)\n",
    "\n",
    "    return data, y_row, y_col"
   ]
  },
  {
   "cell_type": "code",
   "execution_count": 51,
   "metadata": {
    "collapsed": false
   },
   "outputs": [],
   "source": [
    "from numba import jit\n",
    "\n",
    "@jit(nopython=True)\n",
    "def compute_U(S, V, m, k):\n",
    "    V_tilde = np.dot(S, V.T)\n",
    "    U_new = np.empty([m, k])\n",
    "    for i in xrange(m):\n",
    "        errors = np.empty(k)\n",
    "        for row_clust_ind in xrange(k):\n",
    "            errors[row_clust_ind] = np.sum((X[i][:] - V_tilde[row_clust_ind][:])**2)\n",
    "        ind = np.argmin(errors)\n",
    "        U_new[i][ind] = 1\n",
    "    return U_new\n",
    "\n",
    "def fnmtf(X, k, l, num_iter=10, norm=True):\n",
    "    m, n = X.shape\n",
    "\n",
    "    U = np.random.rand(m,k)\n",
    "    S = np.random.rand(k,l)\n",
    "    V = np.random.rand(n,l)\n",
    "\n",
    "    if norm:\n",
    "        X = preprocessing.normalize(X)\n",
    "    for i in xrange(num_iter):\n",
    "        S = pinv(U.T.dot(U)).dot(U.T).dot(X).dot(V).dot(pinv(V.T.dot(V)))\n",
    "\n",
    "        # solve subproblem to update V\n",
    "        U_tilde = U.dot(S)\n",
    "        V_new = np.zeros(n*l).reshape(n, l)\n",
    "        for j in range(n):\n",
    "            errors = np.zeros(l)\n",
    "            for col_clust_ind in xrange(l):\n",
    "                errors[col_clust_ind] = ((X[:][:, j] - U_tilde[:][:, col_clust_ind])**2).sum()\n",
    "            ind = np.argmin(errors)\n",
    "            V_new[j][ind] = 1\n",
    "        V = V_new\n",
    "\n",
    "#         while np.linalg.det(V.T.dot(V)) <= 0:\n",
    "#             erros = (X - U.dot(S).dot(V.T)) ** 2\n",
    "#             erros = np.sum(erros.dot(V), axis=0) / np.sum(V, axis=0)\n",
    "#             erros[np.where(np.sum(V, axis=0) <= 1)] = -inf\n",
    "#             quantidade = np.sum(V, axis=0)\n",
    "#             indexMin = np.argmin(quantidade)\n",
    "#             indexMax = np.argmax(erros)\n",
    "#             indexes = np.nonzero(V[:, indexMax])[0]\n",
    "#             for j in indexes:\n",
    "#                 if np.random.rand(1) > 0.5:\n",
    "#                     V[j, indexMax] = 0\n",
    "#                     V[j, indexMin] = 1\n",
    "\n",
    "        # solve subproblem to update U\n",
    "        U = compute_U(S, V, m, k)\n",
    "\n",
    "#         while np.linalg.det(U.T.dot(U)) <= 0:\n",
    "#             erros = (X - U.dot(V_tilde)) ** 2\n",
    "#             erros = np.sum(U.T.dot(erros), axis=1) / np.sum(U, axis=0)\n",
    "#             erros[np.where(np.sum(U, axis=0) <= 1)] = -np.inf\n",
    "#             quantidade = np.sum(U, axis=0)\n",
    "#             indexMin = np.argmin(quantidade)\n",
    "#             indexMax = np.argmax(erros)\n",
    "#             indexes = np.nonzero(U[:, indexMax])[0]\n",
    "\n",
    "#             end = len(indexes)\n",
    "#             indexes_p = np.random.permutation(end)\n",
    "#             U[indexes[indexes_p[0:np.floor(end/2.0)]], indexMax] = 0.0\n",
    "#             U[indexes[indexes_p[0:np.floor(end/2.0)]], indexMin] = 1.0\n",
    "\n",
    "    rows_ind = np.argmax(U, axis=1)\n",
    "    cols_ind = np.argmax(V, axis=1)\n",
    "\n",
    "    return U, S, V, rows_ind, cols_ind"
   ]
  },
  {
   "cell_type": "code",
   "execution_count": 3,
   "metadata": {
    "collapsed": false
   },
   "outputs": [
    {
     "data": {
      "image/png": "[encoded data removed]",
      "text/plain": [
       "<matplotlib.figure.Figure at 0x10bf7f350>"
      ]
     },
     "metadata": {},
     "output_type": "display_data"
    }
   ],
   "source": [
    "# m, n = (40, 35)\n",
    "# X = .01 * np.random.rand(m,n)\n",
    "# X[0:10][:, 0:10] = 1 + .01 * np.random.random()\n",
    "# X[30:40][:, 20:35] = 1 + .01 * np.random.random()\n",
    "# X[20:30][:, 20:35] = .6 + .01 * np.random.random()\n",
    "# X[30:40][:, 36:40] = 1 + .01 * np.random.random()\n",
    "\n",
    "# m, n = (6, 8)\n",
    "# X = .01 * np.random.rand(m,n)\n",
    "# X[0:2][:, 0:4] = 1 + .01 * np.random.random()\n",
    "# X[2:4][:, 4:8] = .6 + .01 * np.random.random()\n",
    "# X[4:6][:, 0:8] = .8 + .01 * np.random.random()\n",
    "\n",
    "plt.matshow(X, cmap=plt.cm.Blues)\n",
    "plt.title('Original data')\n",
    "plt.grid()\n",
    "plt.show()"
   ]
  },
  {
   "cell_type": "code",
   "execution_count": 53,
   "metadata": {
    "collapsed": false
   },
   "outputs": [
    {
     "ename": "TypingError",
     "evalue": "Caused By:\nTraceback (most recent call last):\n  File \"/usr/local/lib/python2.7/site-packages/numba/compiler.py\", line 243, in run\n    res = stage()\n  File \"/usr/local/lib/python2.7/site-packages/numba/compiler.py\", line 463, in stage_nopython_frontend\n    self.locals)\n  File \"/usr/local/lib/python2.7/site-packages/numba/compiler.py\", line 780, in type_inference_stage\n    infer.propagate()\n  File \"/usr/local/lib/python2.7/site-packages/numba/typeinfer.py\", line 565, in propagate\n    raise errors[0]\nTypingError: Invalid usage of Function(<built-in function empty>) with parameters (list(int64))\n * parameterized\nFile \"<ipython-input-51-b9f182fd0a71>\", line 6\n\nFailed at nopython (nopython frontend)\nInvalid usage of Function(<built-in function empty>) with parameters (list(int64))\n * parameterized\nFile \"<ipython-input-51-b9f182fd0a71>\", line 6",
     "output_type": "error",
     "traceback": [
      "\u001b[0;31m---------------------------------------------------------------------------\u001b[0m",
      "\u001b[0;31mTypingError\u001b[0m                               Traceback (most recent call last)",
      "\u001b[0;32m<ipython-input-53-addcb6f06a9c>\u001b[0m in \u001b[0;36m<module>\u001b[0;34m()\u001b[0m\n\u001b[0;32m----> 1\u001b[0;31m \u001b[0mU\u001b[0m\u001b[0;34m,\u001b[0m \u001b[0mS\u001b[0m\u001b[0;34m,\u001b[0m \u001b[0mV\u001b[0m\u001b[0;34m,\u001b[0m \u001b[0mrows_ind\u001b[0m\u001b[0;34m,\u001b[0m \u001b[0mcols_ind\u001b[0m \u001b[0;34m=\u001b[0m \u001b[0mfnmtf\u001b[0m\u001b[0;34m(\u001b[0m\u001b[0mX\u001b[0m\u001b[0;34m,\u001b[0m \u001b[0;36m3\u001b[0m\u001b[0;34m,\u001b[0m \u001b[0;36m2\u001b[0m\u001b[0;34m,\u001b[0m \u001b[0mnorm\u001b[0m\u001b[0;34m=\u001b[0m\u001b[0mFalse\u001b[0m\u001b[0;34m)\u001b[0m\u001b[0;34m\u001b[0m\u001b[0m\n\u001b[0m\u001b[1;32m      2\u001b[0m \u001b[0;34m\u001b[0m\u001b[0m\n\u001b[1;32m      3\u001b[0m \u001b[0;32mdef\u001b[0m \u001b[0mplot_factorization_result\u001b[0m\u001b[0;34m(\u001b[0m\u001b[0mU\u001b[0m\u001b[0;34m,\u001b[0m \u001b[0mS\u001b[0m\u001b[0;34m,\u001b[0m \u001b[0mV\u001b[0m\u001b[0;34m)\u001b[0m\u001b[0;34m:\u001b[0m\u001b[0;34m\u001b[0m\u001b[0m\n\u001b[1;32m      4\u001b[0m     \u001b[0mfig\u001b[0m \u001b[0;34m=\u001b[0m \u001b[0mplt\u001b[0m\u001b[0;34m.\u001b[0m\u001b[0mfigure\u001b[0m\u001b[0;34m(\u001b[0m\u001b[0;34m)\u001b[0m\u001b[0;34m\u001b[0m\u001b[0m\n\u001b[1;32m      5\u001b[0m \u001b[0;34m\u001b[0m\u001b[0m\n",
      "\u001b[0;32m<ipython-input-51-b9f182fd0a71>\u001b[0m in \u001b[0;36mfnmtf\u001b[0;34m(X, k, l, num_iter, norm)\u001b[0m\n\u001b[1;32m     50\u001b[0m \u001b[0;34m\u001b[0m\u001b[0m\n\u001b[1;32m     51\u001b[0m         \u001b[0;31m# solve subproblem to update U\u001b[0m\u001b[0;34m\u001b[0m\u001b[0;34m\u001b[0m\u001b[0m\n\u001b[0;32m---> 52\u001b[0;31m         \u001b[0mU\u001b[0m \u001b[0;34m=\u001b[0m \u001b[0mcompute_U\u001b[0m\u001b[0;34m(\u001b[0m\u001b[0mS\u001b[0m\u001b[0;34m,\u001b[0m \u001b[0mV\u001b[0m\u001b[0;34m,\u001b[0m \u001b[0mm\u001b[0m\u001b[0;34m,\u001b[0m \u001b[0mk\u001b[0m\u001b[0;34m)\u001b[0m\u001b[0;34m\u001b[0m\u001b[0m\n\u001b[0m\u001b[1;32m     53\u001b[0m \u001b[0;34m\u001b[0m\u001b[0m\n\u001b[1;32m     54\u001b[0m \u001b[0;31m#         while np.linalg.det(U.T.dot(U)) <= 0:\u001b[0m\u001b[0;34m\u001b[0m\u001b[0;34m\u001b[0m\u001b[0m\n",
      "\u001b[0;32m/usr/local/lib/python2.7/site-packages/numba/dispatcher.pyc\u001b[0m in \u001b[0;36m_compile_for_args\u001b[0;34m(self, *args, **kws)\u001b[0m\n\u001b[1;32m    169\u001b[0m         \u001b[0;32massert\u001b[0m \u001b[0;32mnot\u001b[0m \u001b[0mkws\u001b[0m\u001b[0;34m\u001b[0m\u001b[0m\n\u001b[1;32m    170\u001b[0m         \u001b[0msig\u001b[0m \u001b[0;34m=\u001b[0m \u001b[0mtuple\u001b[0m\u001b[0;34m(\u001b[0m\u001b[0;34m[\u001b[0m\u001b[0mself\u001b[0m\u001b[0;34m.\u001b[0m\u001b[0mtypeof_pyval\u001b[0m\u001b[0;34m(\u001b[0m\u001b[0ma\u001b[0m\u001b[0;34m)\u001b[0m \u001b[0;32mfor\u001b[0m \u001b[0ma\u001b[0m \u001b[0;32min\u001b[0m \u001b[0margs\u001b[0m\u001b[0;34m]\u001b[0m\u001b[0;34m)\u001b[0m\u001b[0;34m\u001b[0m\u001b[0m\n\u001b[0;32m--> 171\u001b[0;31m         \u001b[0;32mreturn\u001b[0m \u001b[0mself\u001b[0m\u001b[0;34m.\u001b[0m\u001b[0mcompile\u001b[0m\u001b[0;34m(\u001b[0m\u001b[0msig\u001b[0m\u001b[0;34m)\u001b[0m\u001b[0;34m\u001b[0m\u001b[0m\n\u001b[0m\u001b[1;32m    172\u001b[0m \u001b[0;34m\u001b[0m\u001b[0m\n\u001b[1;32m    173\u001b[0m     \u001b[0;32mdef\u001b[0m \u001b[0minspect_llvm\u001b[0m\u001b[0;34m(\u001b[0m\u001b[0mself\u001b[0m\u001b[0;34m,\u001b[0m \u001b[0msignature\u001b[0m\u001b[0;34m=\u001b[0m\u001b[0mNone\u001b[0m\u001b[0;34m)\u001b[0m\u001b[0;34m:\u001b[0m\u001b[0;34m\u001b[0m\u001b[0m\n",
      "\u001b[0;32m/usr/local/lib/python2.7/site-packages/numba/dispatcher.pyc\u001b[0m in \u001b[0;36mcompile\u001b[0;34m(self, sig)\u001b[0m\n\u001b[1;32m    347\u001b[0m                                           \u001b[0mself\u001b[0m\u001b[0;34m.\u001b[0m\u001b[0mpy_func\u001b[0m\u001b[0;34m,\u001b[0m\u001b[0;34m\u001b[0m\u001b[0m\n\u001b[1;32m    348\u001b[0m                                           \u001b[0margs\u001b[0m\u001b[0;34m=\u001b[0m\u001b[0margs\u001b[0m\u001b[0;34m,\u001b[0m \u001b[0mreturn_type\u001b[0m\u001b[0;34m=\u001b[0m\u001b[0mreturn_type\u001b[0m\u001b[0;34m,\u001b[0m\u001b[0;34m\u001b[0m\u001b[0m\n\u001b[0;32m--> 349\u001b[0;31m                                           flags=flags, locals=self.locals)\n\u001b[0m\u001b[1;32m    350\u001b[0m \u001b[0;34m\u001b[0m\u001b[0m\n\u001b[1;32m    351\u001b[0m             \u001b[0;31m# Check typing error if object mode is used\u001b[0m\u001b[0;34m\u001b[0m\u001b[0;34m\u001b[0m\u001b[0m\n",
      "\u001b[0;32m/usr/local/lib/python2.7/site-packages/numba/compiler.pyc\u001b[0m in \u001b[0;36mcompile_extra\u001b[0;34m(typingctx, targetctx, func, args, return_type, flags, locals, library)\u001b[0m\n\u001b[1;32m    663\u001b[0m     pipeline = Pipeline(typingctx, targetctx, library,\n\u001b[1;32m    664\u001b[0m                         args, return_type, flags, locals)\n\u001b[0;32m--> 665\u001b[0;31m     \u001b[0;32mreturn\u001b[0m \u001b[0mpipeline\u001b[0m\u001b[0;34m.\u001b[0m\u001b[0mcompile_extra\u001b[0m\u001b[0;34m(\u001b[0m\u001b[0mfunc\u001b[0m\u001b[0;34m)\u001b[0m\u001b[0;34m\u001b[0m\u001b[0m\n\u001b[0m\u001b[1;32m    666\u001b[0m \u001b[0;34m\u001b[0m\u001b[0m\n\u001b[1;32m    667\u001b[0m \u001b[0;34m\u001b[0m\u001b[0m\n",
      "\u001b[0;32m/usr/local/lib/python2.7/site-packages/numba/compiler.pyc\u001b[0m in \u001b[0;36mcompile_extra\u001b[0;34m(self, func)\u001b[0m\n\u001b[1;32m    364\u001b[0m                 \u001b[0;32mraise\u001b[0m \u001b[0me\u001b[0m\u001b[0;34m\u001b[0m\u001b[0m\n\u001b[1;32m    365\u001b[0m \u001b[0;34m\u001b[0m\u001b[0m\n\u001b[0;32m--> 366\u001b[0;31m         \u001b[0;32mreturn\u001b[0m \u001b[0mself\u001b[0m\u001b[0;34m.\u001b[0m\u001b[0mcompile_bytecode\u001b[0m\u001b[0;34m(\u001b[0m\u001b[0mbc\u001b[0m\u001b[0;34m,\u001b[0m \u001b[0mfunc_attr\u001b[0m\u001b[0;34m=\u001b[0m\u001b[0mself\u001b[0m\u001b[0;34m.\u001b[0m\u001b[0mfunc_attr\u001b[0m\u001b[0;34m)\u001b[0m\u001b[0;34m\u001b[0m\u001b[0m\n\u001b[0m\u001b[1;32m    367\u001b[0m \u001b[0;34m\u001b[0m\u001b[0m\n\u001b[1;32m    368\u001b[0m     def compile_bytecode(self, bc, lifted=(), lifted_from=None,\n",
      "\u001b[0;32m/usr/local/lib/python2.7/site-packages/numba/compiler.pyc\u001b[0m in \u001b[0;36mcompile_bytecode\u001b[0;34m(self, bc, lifted, lifted_from, func_attr)\u001b[0m\n\u001b[1;32m    373\u001b[0m         \u001b[0mself\u001b[0m\u001b[0;34m.\u001b[0m\u001b[0mlifted_from\u001b[0m \u001b[0;34m=\u001b[0m \u001b[0mlifted_from\u001b[0m\u001b[0;34m\u001b[0m\u001b[0m\n\u001b[1;32m    374\u001b[0m         \u001b[0mself\u001b[0m\u001b[0;34m.\u001b[0m\u001b[0mfunc_attr\u001b[0m \u001b[0;34m=\u001b[0m \u001b[0mfunc_attr\u001b[0m\u001b[0;34m\u001b[0m\u001b[0m\n\u001b[0;32m--> 375\u001b[0;31m         \u001b[0;32mreturn\u001b[0m \u001b[0mself\u001b[0m\u001b[0;34m.\u001b[0m\u001b[0m_compile_bytecode\u001b[0m\u001b[0;34m(\u001b[0m\u001b[0;34m)\u001b[0m\u001b[0;34m\u001b[0m\u001b[0m\n\u001b[0m\u001b[1;32m    376\u001b[0m \u001b[0;34m\u001b[0m\u001b[0m\n\u001b[1;32m    377\u001b[0m     \u001b[0;32mdef\u001b[0m \u001b[0mcompile_internal\u001b[0m\u001b[0;34m(\u001b[0m\u001b[0mself\u001b[0m\u001b[0;34m,\u001b[0m \u001b[0mbc\u001b[0m\u001b[0;34m,\u001b[0m \u001b[0mfunc_attr\u001b[0m\u001b[0;34m=\u001b[0m\u001b[0mDEFAULT_FUNCTION_ATTRIBUTES\u001b[0m\u001b[0;34m)\u001b[0m\u001b[0;34m:\u001b[0m\u001b[0;34m\u001b[0m\u001b[0m\n",
      "\u001b[0;32m/usr/local/lib/python2.7/site-packages/numba/compiler.pyc\u001b[0m in \u001b[0;36m_compile_bytecode\u001b[0;34m(self)\u001b[0m\n\u001b[1;32m    650\u001b[0m \u001b[0;34m\u001b[0m\u001b[0m\n\u001b[1;32m    651\u001b[0m         \u001b[0mpm\u001b[0m\u001b[0;34m.\u001b[0m\u001b[0mfinalize\u001b[0m\u001b[0;34m(\u001b[0m\u001b[0;34m)\u001b[0m\u001b[0;34m\u001b[0m\u001b[0m\n\u001b[0;32m--> 652\u001b[0;31m         \u001b[0;32mreturn\u001b[0m \u001b[0mpm\u001b[0m\u001b[0;34m.\u001b[0m\u001b[0mrun\u001b[0m\u001b[0;34m(\u001b[0m\u001b[0mself\u001b[0m\u001b[0;34m.\u001b[0m\u001b[0mstatus\u001b[0m\u001b[0;34m)\u001b[0m\u001b[0;34m\u001b[0m\u001b[0m\n\u001b[0m\u001b[1;32m    653\u001b[0m \u001b[0;34m\u001b[0m\u001b[0m\n\u001b[1;32m    654\u001b[0m \u001b[0;34m\u001b[0m\u001b[0m\n",
      "\u001b[0;32m/usr/local/lib/python2.7/site-packages/numba/compiler.pyc\u001b[0m in \u001b[0;36mrun\u001b[0;34m(self, status)\u001b[0m\n\u001b[1;32m    249\u001b[0m                     \u001b[0;31m# No more fallback pipelines?\u001b[0m\u001b[0;34m\u001b[0m\u001b[0;34m\u001b[0m\u001b[0m\n\u001b[1;32m    250\u001b[0m                     \u001b[0;32mif\u001b[0m \u001b[0mis_final_pipeline\u001b[0m\u001b[0;34m:\u001b[0m\u001b[0;34m\u001b[0m\u001b[0m\n\u001b[0;32m--> 251\u001b[0;31m                         \u001b[0;32mraise\u001b[0m \u001b[0mpatched_exception\u001b[0m\u001b[0;34m\u001b[0m\u001b[0m\n\u001b[0m\u001b[1;32m    252\u001b[0m                     \u001b[0;31m# Go to next fallback pipeline\u001b[0m\u001b[0;34m\u001b[0m\u001b[0;34m\u001b[0m\u001b[0m\n\u001b[1;32m    253\u001b[0m                     \u001b[0;32melse\u001b[0m\u001b[0;34m:\u001b[0m\u001b[0;34m\u001b[0m\u001b[0m\n",
      "\u001b[0;31mTypingError\u001b[0m: Caused By:\nTraceback (most recent call last):\n  File \"/usr/local/lib/python2.7/site-packages/numba/compiler.py\", line 243, in run\n    res = stage()\n  File \"/usr/local/lib/python2.7/site-packages/numba/compiler.py\", line 463, in stage_nopython_frontend\n    self.locals)\n  File \"/usr/local/lib/python2.7/site-packages/numba/compiler.py\", line 780, in type_inference_stage\n    infer.propagate()\n  File \"/usr/local/lib/python2.7/site-packages/numba/typeinfer.py\", line 565, in propagate\n    raise errors[0]\nTypingError: Invalid usage of Function(<built-in function empty>) with parameters (list(int64))\n * parameterized\nFile \"<ipython-input-51-b9f182fd0a71>\", line 6\n\nFailed at nopython (nopython frontend)\nInvalid usage of Function(<built-in function empty>) with parameters (list(int64))\n * parameterized\nFile \"<ipython-input-51-b9f182fd0a71>\", line 6"
     ]
    }
   ],
   "source": [
    "U, S, V, rows_ind, cols_ind = fnmtf(X, 3, 2, norm=False)\n",
    "\n",
    "def plot_factorization_result(U, S, V):\n",
    "    fig = plt.figure()\n",
    "    \n",
    "    ax = fig.add_subplot(2, 2, 1)\n",
    "    ax.matshow(U.dot(S).dot(V.T), cmap=plt.cm.Blues)\n",
    "    ax.set_title('reconstruction')\n",
    "    ax.grid()\n",
    "    \n",
    "    ax2 = fig.add_subplot(2, 2, 2)\n",
    "    ax2.matshow(U, cmap=plt.cm.Blues)\n",
    "    ax2.set_title('U*S')\n",
    "    ax2.grid()\n",
    "\n",
    "    ax3 = fig.add_subplot(2, 2, 3)\n",
    "    ax3.matshow(S, cmap=plt.cm.Blues)\n",
    "    ax3.set_title('S')\n",
    "    ax3.grid()\n",
    "\n",
    "    ax4 = fig.add_subplot(2, 2, 4)\n",
    "    ax4.matshow(V.T, cmap=plt.cm.Blues)\n",
    "    ax4.set_title('S*V\\'')\n",
    "    ax4.grid()\n",
    "    \n",
    "    plt.show()\n",
    "\n",
    "\n",
    "def scores(labels_true, labels_pred, row=True):\n",
    "    if row:\n",
    "        print 'Rows scores'\n",
    "    else:\n",
    "        print 'Cols scores'\n",
    "    print 'Random score: %s' % adjusted_rand_score(labels_true, labels_pred)\n",
    "    print 'Normalized mutual information score: %s' % normalized_mutual_info_score(labels_true, labels_pred)\n",
    "    print ''\n",
    "\n",
    "plot_factorization_result(U, S, V)\n",
    "scores(rows_ind, [0, 0, 1, 1, 2, 2])\n",
    "scores(cols_ind, [0, 0, 0, 0, 1, 1, 1, 1], row=False)"
   ]
  },
  {
   "cell_type": "code",
   "execution_count": 17,
   "metadata": {
    "collapsed": false
   },
   "outputs": [
    {
     "data": {
      "image/png": "[encoded data removed]",
      "text/plain": [
       "<matplotlib.figure.Figure at 0x10cdf72d0>"
      ]
     },
     "metadata": {},
     "output_type": "display_data"
    }
   ],
   "source": [
    "X, x_labels, y_labels = generate_dataset('d', noise_background=False, shuffle=False)\n",
    "temp, _, _ = generate_dataset('d', noise_background=False)\n",
    "\n",
    "fig = plt.figure()\n",
    "    \n",
    "ax1 = fig.add_subplot(1, 2, 1)\n",
    "ax1.matshow(temp, cmap=plt.cm.Blues)\n",
    "ax1.set_title('Original data')\n",
    "ax1.grid()\n",
    "\n",
    "ax2 = fig.add_subplot(1, 2, 2)\n",
    "ax2.matshow(X, cmap=plt.cm.Blues)\n",
    "ax2.set_title('Shuffled data')\n",
    "ax2.grid()\n",
    "\n",
    "plt.show()"
   ]
  },
  {
   "cell_type": "code",
   "execution_count": 27,
   "metadata": {
    "collapsed": false
   },
   "outputs": [
    {
     "name": "stdout",
     "output_type": "stream",
     "text": [
      "dt: 0.0820469856262 secs\n"
     ]
    },
    {
     "data": {
      "image/png": "[encoded data removed]",
      "text/plain": [
       "<matplotlib.figure.Figure at 0x10cab22d0>"
      ]
     },
     "metadata": {},
     "output_type": "display_data"
    },
    {
     "name": "stdout",
     "output_type": "stream",
     "text": [
      "Rows scores\n",
      "Random score: 1.0\n",
      "Normalized mutual information score: 1.0\n",
      "\n",
      "Cols scores\n",
      "Random score: 0.640096618357\n",
      "Normalized mutual information score: 0.722428192022\n",
      "\n"
     ]
    }
   ],
   "source": [
    "import time\n",
    "t1 = time.time()\n",
    "U, S, V, rows_ind, cols_ind = fnmtf(X, 3, 3, norm=False)\n",
    "t2 = time.time()\n",
    "print ('dt: {} secs'.format(t2-t1))\n",
    "plot_factorization_result(U, S, V)\n",
    "scores(rows_ind, x_labels)\n",
    "scores(cols_ind, y_labels, row=False)"
   ]
  },
  {
   "cell_type": "code",
   "execution_count": 54,
   "metadata": {
    "collapsed": true
   },
   "outputs": [],
   "source": [
    "%load_ext Cython"
   ]
  },
  {
   "cell_type": "code",
   "execution_count": 79,
   "metadata": {
    "collapsed": false
   },
   "outputs": [],
   "source": [
    "%%cython\n",
    "\n",
    "import cython\n",
    "cimport cython\n",
    "\n",
    "import numpy as np\n",
    "cimport numpy as np\n",
    "\n",
    "@cython.boundscheck(False)\n",
    "@cython.wraparound(False)\n",
    "@cython.nonecheck(False)\n",
    "def fnmtf_improved(double[:, ::1] X, int k, int l, int num_iter=100, int norm=0):\n",
    "    cdef int m = X.shape[0]\n",
    "    cdef int n = X.shape[1]\n",
    "\n",
    "    cdef unsigned int i = 0\n",
    "    cdef unsigned int j = 0\n",
    "    cdef unsigned int iter_index = 0\n",
    "    cdef unsigned int row_clust_ind = 0\n",
    "    cdef unsigned int col_clust_ind = 0\n",
    "    cdef unsigned int ind = 0\n",
    "\n",
    "    cdef double[:, ::1] U = np.random.rand(m, k).astype(np.float64)\n",
    "    cdef double[:, ::1] U_best = np.random.rand(m, k).astype(np.float64)\n",
    "    cdef double[:, ::1] S = np.random.rand(k, l).astype(np.float64)\n",
    "    cdef double[:, ::1] S_best = np.random.rand(k, l).astype(np.float64)\n",
    "    cdef double[:, ::1] V = np.random.rand(n, l).astype(np.float64)\n",
    "    cdef double[:, ::1] V_best = np.random.rand(n, l).astype(np.float64)\n",
    "\n",
    "    cdef double[:, ::1] U_tilde = np.empty((m, l), dtype=np.float64)\n",
    "    cdef double[:, ::1] V_new = np.empty((n, l), dtype=np.float64)\n",
    "\n",
    "    cdef double[:, ::1] V_tilde = np.empty((l, n), dtype=np.float64)\n",
    "    cdef double[:, ::1] U_new = np.empty((m, k), dtype=np.float64)\n",
    "\n",
    "    cdef double error_best = 10e9999\n",
    "    cdef double error = 10e9999\n",
    "    cdef double[:] errors_v = np.zeros(l, dtype=np.float64)\n",
    "    cdef double[:] errors_u = np.zeros(k, dtype=np.float64)\n",
    "\n",
    "    for iter_index in range(num_iter):\n",
    "        S[:, :] = np.dot( np.dot(np.linalg.pinv(np.dot(U.T, U)), np.dot(np.dot(U.T, X), V)), np.linalg.pinv(np.dot(V.T, V)) )\n",
    "\n",
    "        # solve subproblem to update V\n",
    "        U_tilde[:, :] = np.dot(U, S)\n",
    "        V_new[:, :] = np.empty((n, l), dtype=np.int)\n",
    "        for j in range(n):\n",
    "            errors_v = np.zeros(l, dtype=np.float64)\n",
    "            for col_clust_ind in range(l):\n",
    "                errors_v[col_clust_ind] = np.sum(np.square(np.subtract(X[:, j], U_tilde[:, col_clust_ind])))\n",
    "            ind = np.argmin(errors_v)\n",
    "            V_new[j, ind] = 1.0\n",
    "        V[:, :] = V_new\n",
    "\n",
    "        # solve subproblem to update U\n",
    "        V_tilde[:, :] = np.dot(S, V.T)\n",
    "        U_new[:, :] = np.empty((m, k), dtype=np.int)\n",
    "        for i in range(m):\n",
    "            errors_u = np.zeros(k, dtype=np.float64)\n",
    "            for row_clust_ind in range(k):\n",
    "                errors_u[row_clust_ind] = np.sum(np.square(np.subtract(X[i, :], V_tilde[row_clust_ind, :])))\n",
    "            ind = np.argmin(errors_u)\n",
    "            U_new[i, ind] = 1.0\n",
    "        U[:, :] = U_new\n",
    "\n",
    "        error_ant = error\n",
    "        error = np.sum(np.square(np.subtract(X, np.dot(np.dot(U, S), V.T))))\n",
    "\n",
    "        if error < error_best:\n",
    "            U_best[:, :] = U\n",
    "            S_best[:, :] = S\n",
    "            V_best[:, :] = V\n",
    "            error_best = error"
   ]
  },
  {
   "cell_type": "code",
   "execution_count": 80,
   "metadata": {
    "collapsed": false
   },
   "outputs": [
    {
     "ename": "TypeError",
     "evalue": "only length-1 arrays can be converted to Python scalars",
     "output_type": "error",
     "traceback": [
      "\u001b[0;31m---------------------------------------------------------------------------\u001b[0m",
      "\u001b[0;31mTypeError\u001b[0m                                 Traceback (most recent call last)",
      "\u001b[0;32m<ipython-input-80-67abd697c459>\u001b[0m in \u001b[0;36m<module>\u001b[0;34m()\u001b[0m\n\u001b[1;32m      2\u001b[0m \u001b[0mX\u001b[0m\u001b[0;34m,\u001b[0m \u001b[0mx_labels\u001b[0m\u001b[0;34m,\u001b[0m \u001b[0my_labels\u001b[0m \u001b[0;34m=\u001b[0m \u001b[0mgenerate_dataset\u001b[0m\u001b[0;34m(\u001b[0m\u001b[0;34m'd'\u001b[0m\u001b[0;34m,\u001b[0m \u001b[0mnoise_background\u001b[0m\u001b[0;34m=\u001b[0m\u001b[0mFalse\u001b[0m\u001b[0;34m,\u001b[0m \u001b[0mshuffle\u001b[0m\u001b[0;34m=\u001b[0m\u001b[0mFalse\u001b[0m\u001b[0;34m)\u001b[0m\u001b[0;34m\u001b[0m\u001b[0m\n\u001b[1;32m      3\u001b[0m \u001b[0mt1\u001b[0m \u001b[0;34m=\u001b[0m \u001b[0mtime\u001b[0m\u001b[0;34m.\u001b[0m\u001b[0mtime\u001b[0m\u001b[0;34m(\u001b[0m\u001b[0;34m)\u001b[0m\u001b[0;34m\u001b[0m\u001b[0m\n\u001b[0;32m----> 4\u001b[0;31m \u001b[0mU\u001b[0m\u001b[0;34m,\u001b[0m \u001b[0mS\u001b[0m\u001b[0;34m,\u001b[0m \u001b[0mV\u001b[0m\u001b[0;34m,\u001b[0m \u001b[0mrows_ind\u001b[0m\u001b[0;34m,\u001b[0m \u001b[0mcols_ind\u001b[0m \u001b[0;34m=\u001b[0m \u001b[0mfnmtf_improved\u001b[0m\u001b[0;34m(\u001b[0m\u001b[0mX\u001b[0m\u001b[0;34m,\u001b[0m \u001b[0;36m3\u001b[0m\u001b[0;34m,\u001b[0m \u001b[0;36m3\u001b[0m\u001b[0;34m)\u001b[0m\u001b[0;34m\u001b[0m\u001b[0m\n\u001b[0m\u001b[1;32m      5\u001b[0m \u001b[0mt2\u001b[0m \u001b[0;34m=\u001b[0m \u001b[0mtime\u001b[0m\u001b[0;34m.\u001b[0m\u001b[0mtime\u001b[0m\u001b[0;34m(\u001b[0m\u001b[0;34m)\u001b[0m\u001b[0;34m\u001b[0m\u001b[0m\n\u001b[1;32m      6\u001b[0m \u001b[0;32mprint\u001b[0m \u001b[0;34m(\u001b[0m\u001b[0;34m'dt: {} secs'\u001b[0m\u001b[0;34m.\u001b[0m\u001b[0mformat\u001b[0m\u001b[0;34m(\u001b[0m\u001b[0mt2\u001b[0m\u001b[0;34m-\u001b[0m\u001b[0mt1\u001b[0m\u001b[0;34m)\u001b[0m\u001b[0;34m)\u001b[0m\u001b[0;34m\u001b[0m\u001b[0m\n",
      "\u001b[0;32m_cython_magic_7cd97bef394bbee33b91237da4be0f81.pyx\u001b[0m in \u001b[0;36m_cython_magic_7cd97bef394bbee33b91237da4be0f81.fnmtf_improved (/Users/lucasbrunialti/.ipython/cython/_cython_magic_7cd97bef394bbee33b91237da4be0f81.c:3261)\u001b[0;34m()\u001b[0m\n",
      "\u001b[0;31mTypeError\u001b[0m: only length-1 arrays can be converted to Python scalars"
     ]
    }
   ],
   "source": [
    "import time\n",
    "X, x_labels, y_labels = generate_dataset('d', noise_background=False, shuffle=False)\n",
    "t1 = time.time()\n",
    "U, S, V, rows_ind, cols_ind = fnmtf_improved(X, 3, 3)\n",
    "t2 = time.time()\n",
    "print ('dt: {} secs'.format(t2-t1))\n",
    "plot_factorization_result(U, S, V)\n",
    "scores(rows_ind, x_labels)\n",
    "scores(cols_ind, y_labels, row=False)"
   ]
  },
  {
   "cell_type": "code",
   "execution_count": null,
   "metadata": {
    "collapsed": true
   },
   "outputs": [],
   "source": []
  }
 ],
 "metadata": {
  "kernelspec": {
   "display_name": "Python 2",
   "language": "python",
   "name": "python2"
  },
  "language_info": {
   "codemirror_mode": {
    "name": "ipython",
    "version": 2
   },
   "file_extension": ".py",
   "mimetype": "text/x-python",
   "name": "python",
   "nbconvert_exporter": "python",
   "pygments_lexer": "ipython2",
   "version": "2.7.10"
  }
 },
 "nbformat": 4,
 "nbformat_minor": 0
}
